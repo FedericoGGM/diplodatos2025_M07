{
 "cells": [
  {
   "cell_type": "markdown",
   "id": "87077f7d",
   "metadata": {},
   "source": [
    "# El Impacto De Las Condiciones Ambientales\n",
    "## Entregable 1\n",
    "\n",
    "---"
   ]
  },
  {
   "cell_type": "markdown",
   "id": "b2605269",
   "metadata": {},
   "source": [
    "## Importamos librerías a usar"
   ]
  },
  {
   "cell_type": "markdown",
   "id": "a2a2c4e1",
   "metadata": {},
   "source": [
    "[texto del vínculo](https://)"
   ]
  },
  {
   "cell_type": "code",
   "execution_count": null,
   "id": "2092c361",
   "metadata": {},
   "outputs": [],
   "source": [
    "#Librerias\n",
    "\n",
    "import pandas as pd\n",
    "import numpy as np\n",
    "import matplotlib.pyplot as plt\n",
    "import seaborn as sns\n",
    "import folium\n",
    "from IPython.display import display, HTML\n",
    "import re\n",
    "from missingno import matrix, bar, heatmap, dendrogram"
   ]
  },
  {
   "cell_type": "markdown",
   "id": "d294e5b9",
   "metadata": {},
   "source": [
    "Pandas permite cargar, explorar y manipular datos en estructuras como los DataFrames, que son fundamentales para trabajar con información tabular. numpy se emplea para operaciones numéricas eficientes, como cálculos con arrays y manejo de valores nulos. Para la visualización de datos, se usa matplotlib.pyplot para crear gráficos básicos como líneas, barras o histogramas, mientras que seaborn facilita la generación de gráficos estadísticos más avanzados y estéticos, como mapas de calor o diagramas de caja.\n",
    "\n",
    "Para el caso de  coordenadas geográficas, folium es útil para construir mapas interactivos que permiten representar datos espaciales. En cuanto a la preparación y modelado con machine learning, train_test_split de sklearn divide los datos en conjuntos de entrenamiento y prueba, lo que es esencial para validar modelos. StandardScaler se encarga de normalizar variables numéricas, LabelEncoder convierte variables categóricas en valores numéricos, y SimpleImputer permite imputar valores faltantes con distintas estrategias."
   ]
  },
  {
   "cell_type": "markdown",
   "id": "e1f33a47",
   "metadata": {},
   "source": [
    "## Zona de Estudio con GEE"
   ]
  },
  {
   "cell_type": "markdown",
   "id": "5c887a2a",
   "metadata": {},
   "source": [
    "Utiliza imagenes Sentinel-2 corregido atmosféricamente (COPERNICUS/S2_SR).\n",
    "\n",
    "Filtra imágenes con menos del 20% de nubes\n",
    "\n",
    "Selecciona la estacion por año (primavera e invierno)\n",
    "\n",
    "Primero se debe habilitar una APi de GEE version gratuita, luego se procede a armar un proyecto o carpeta en GEE y se habilita para despues seguir con el codigo en Colab"
   ]
  },
  {
   "cell_type": "code",
   "execution_count": null,
   "id": "0564237e",
   "metadata": {},
   "outputs": [],
   "source": [
    "# Instalar y cargar Earth Engine\n",
    "!pip install earthengine-api folium geemap --quiet\n",
    "\n",
    "import ee\n",
    "import geemap  # <- IMPORTAR geemap aquí\n",
    "\n",
    "ee.Authenticate()  # Esto abre un enlace para autorizar tu cuenta\n",
    "ee.Initialize(project='mentorias-463215')  # Solo después de autenticar\n",
    "\n",
    "# Punto central: Franja costera del Río de La Plata\n",
    "punto = ee.Geometry.Point([-58.4464023, -34.5375533])\n",
    "zona = punto.buffer(1000).bounds()\n",
    "\n",
    "# Función para obtener una imagen limpia por estación y año\n",
    "def obtener_imagen(estacion, fecha_ini, fecha_fin):\n",
    "    coleccion = ee.ImageCollection('COPERNICUS/S2_SR') \\\n",
    "        .filterBounds(zona) \\\n",
    "        .filterDate(fecha_ini, fecha_fin) \\\n",
    "        .filter(ee.Filter.lt('CLOUDY_PIXEL_PERCENTAGE', 20)) \\\n",
    "        .sort('CLOUDY_PIXEL_PERCENTAGE') \\\n",
    "        .first() \\\n",
    "        .clip(zona)\n",
    "\n",
    "    vis_params = {'min': 0, 'max': 3000, 'bands': ['B4', 'B3', 'B2']}  # RGB\n",
    "    return coleccion.visualize(**vis_params).set({'title': estacion})\n",
    "\n",
    "# Crear diccionario con las estaciones\n",
    "imagenes = {\n",
    "    'Invierno 2021': obtener_imagen('Invierno 2021', '2021-06-21', '2021-09-21'),\n",
    "    'Primavera 2021': obtener_imagen('Primavera 2021', '2021-09-22', '2021-12-20'),\n",
    "    'Invierno 2022': obtener_imagen('Invierno 2022', '2022-06-21', '2022-09-21'),\n",
    "    'Primavera 2022': obtener_imagen('Primavera 2022', '2022-09-22', '2022-12-20'),\n",
    "}\n",
    "\n",
    "# Crear mapa\n",
    "m = geemap.Map(center=[-34.5375533, -58.4464023], zoom=13)\n",
    "\n",
    "# Agregar capas al mapa\n",
    "for nombre, imagen in imagenes.items():\n",
    "    m.addLayer(imagen, {}, nombre)\n",
    "\n",
    "m.add_legend(title=\"Estaciones\", labels=list(imagenes.keys()), colors=['#999999']*4)\n",
    "m  # Mostrar mapa"
   ]
  },
  {
   "cell_type": "markdown",
   "id": "07b8b510",
   "metadata": {},
   "source": [
    "Las imágenes satelitales correspondientes a invierno y primavera de los años 2021 y 2022 permiten evidenciar condiciones ambientales superficiales en distintas estaciones y años. Las variaciones en la coloración del agua observadas en las escenas pueden reflejar diferencias en la turbidez, en la presencia de sedimentos en suspensión o incluso en posibles floraciones algales, todos ellos considerados indicadores indirectos del estado de la calidad del agua. Además, el contraste entre áreas ribereñas vegetadas y zonas construidas permite inferir el grado de permeabilidad del entorno y su influencia en los procesos de escurrimiento y arrastre de contaminantes hacia el río.\n",
    "\n",
    "Estas imágenes también permiten interpretar procesos ambientales que afectan directamente la calidad del agua. Por ejemplo, un aumento del verdor costero durante la primavera podría asociarse a una mayor actividad agrícola o a un incremento en la escorrentía de fertilizantes, mientras que la presencia de tonalidades marrones u opacas en el cuerpo de agua puede estar relacionada con una mayor carga de sedimentos o materia orgánica en suspensión, resultado de fenómenos como la erosión del suelo, precipitaciones intensas o vertidos cloacales.\n",
    "\n",
    "Finalmente, la comparación entre años permite detectar patrones interanuales. Si en una misma estación se observa una mayor degradación visual del agua en un año respecto a otro, es posible vincular esa diferencia con condiciones climáticas particulares (como sequías o lluvias extremas) o con transformaciones en el uso del suelo del entorno inmediato al cauce."
   ]
  },
  {
   "cell_type": "markdown",
   "id": "d439ce09",
   "metadata": {},
   "source": [
    "**NDCI, o Índice de Diferencia Normalizada de Clorofila**\n",
    " es un índice que se utiliza para estimar la concentración de clorofila-a en aguas productivas y turbias, como estuarios, aguas costeras y lagos de agua dulce. Se calcula utilizando bandas espectrales rojas y de borde rojo, que se encuentran en sensores como Sentinel-2."
   ]
  },
  {
   "cell_type": "code",
   "execution_count": null,
   "id": "a04e1575",
   "metadata": {},
   "outputs": [],
   "source": [
    "import ee\n",
    "import geemap\n",
    "\n",
    "ee.Authenticate()\n",
    "ee.Initialize(project='mentorias-463215')\n",
    "\n",
    "punto = ee.Geometry.Point([-58.4464023, -34.5375533])\n",
    "zona = punto.buffer(1000).bounds()\n",
    "\n",
    "def obtener_imagen(fecha_ini, fecha_fin):\n",
    "    coleccion = ee.ImageCollection('COPERNICUS/S2_SR') \\\n",
    "        .filterBounds(zona) \\\n",
    "        .filterDate(fecha_ini, fecha_fin) \\\n",
    "        .filter(ee.Filter.lt('CLOUDY_PIXEL_PERCENTAGE', 20)) \\\n",
    "        .sort('CLOUDY_PIXEL_PERCENTAGE') \\\n",
    "        .first() \\\n",
    "        .clip(zona)\n",
    "    return coleccion\n",
    "\n",
    "def calcular_ndci(imagen):\n",
    "    ndci = imagen.normalizedDifference(['B5', 'B4']).rename('NDCI')\n",
    "    return ndci\n",
    "\n",
    "fechas_estaciones = {\n",
    "    'Invierno 2021': ('2021-06-21', '2021-09-21'),\n",
    "    'Primavera 2021': ('2021-09-22', '2021-12-20'),\n",
    "    'Invierno 2022': ('2022-06-21', '2022-09-21'),\n",
    "    'Primavera 2022': ('2022-09-22', '2022-12-20'),\n",
    "}\n",
    "\n",
    "m = geemap.Map(center=[-34.5375533, -58.4464023], zoom=13)\n",
    "\n",
    "# Parámetros visualización NDCI\n",
    "ndci_vis = {\n",
    "    'min': -1,\n",
    "    'max': 1,\n",
    "    'palette': ['blue', 'white', 'green', 'darkgreen']\n",
    "}\n",
    "\n",
    "for estacion, (fecha_ini, fecha_fin) in fechas_estaciones.items():\n",
    "    imagen = obtener_imagen(fecha_ini, fecha_fin)\n",
    "    ndci = calcular_ndci(imagen)\n",
    "    m.addLayer(ndci, ndci_vis, f'NDCI {estacion}')\n",
    "\n",
    "colores_rgb = [\n",
    "    (0, 0, 255),        # azul\n",
    "    (255, 255, 255),    # blanco\n",
    "    (0, 128, 0),        # verde\n",
    "    (0, 100, 0)         # verde oscuro\n",
    "]\n",
    "\n",
    "m.add_legend(title=\"NDCI\", labels=['Bajo', 'Medio', 'Alto', 'Muy alto'], colors=colores_rgb)\n",
    "\n",
    "m"
   ]
  },
  {
   "cell_type": "markdown",
   "id": "83d9fb19",
   "metadata": {},
   "source": [
    "En Primavera 2021 y Primavera 2022 se observa una mayor intensidad de verde, indicando una mayor concentración de clorofila y, por ende, una mayor presencia de algas en la zona costera. Esto es coherente con que la primavera suele ser temporada de mayor actividad biológica y crecimiento algal debido a mejores condiciones de luz y temperatura.\n",
    "\n",
    "En Invierno 2021 y Invierno 2022, la intensidad del verde es menor, mostrando menos concentración de algas. Esto corresponde a la temporada fría, cuando la proliferación algal disminuye por menores temperaturas y condiciones menos favorables para el crecimiento."
   ]
  },
  {
   "cell_type": "markdown",
   "id": "85694a97",
   "metadata": {},
   "source": [
    "## Descripcion básica del dataset"
   ]
  },
  {
   "cell_type": "markdown",
   "id": "21e8822f",
   "metadata": {},
   "source": [
    "#### Aspectos generales"
   ]
  },
  {
   "cell_type": "markdown",
   "id": "23961f33",
   "metadata": {},
   "source": [
    "Al analizar el dataset Conexiones_Transparentes.csv, se observó primero su dimensión general, es decir, cuántas filas y columnas contiene.Se identificó  613 registros distribuidos en 45 columnas. Esto permitió tener una idea inicial del volumen de datos con los que se va a trabajar. Luego, se revisaron los tipos de datos de cada variable, lo cual permite entender si se trata de valores numéricos, texto, fechas u otro tipo de información, y así anticipar qué tipo de análisis será necesario en cada caso.\n",
    "\n",
    "Finalmente, se visualizaron las primeras filas del dataset, lo que sirvió para conocer cómo están estructurados los datos, si los nombres de las columnas son claros, si hay valores atípicos o mal cargados a simple vista, y empezar a identificar patrones o variables relevantes."
   ]
  },
  {
   "cell_type": "code",
   "execution_count": null,
   "id": "00a56d7e",
   "metadata": {},
   "outputs": [],
   "source": [
    "# Configuracion de pandas\n",
    "\n",
    "pd.set_option('display.max_rows', None)\n",
    "pd.set_option('display.max_columns', None)\n",
    "\n",
    "# Cargar el dataset\n",
    "\n",
    "url = \"https://raw.githubusercontent.com/MaricelSantos/Mentoria--Diplodatos-2025/main/Conexiones_Transparentes.csv\"\n",
    "df = pd.read_csv(url)\n",
    "\n",
    "# Descripcion del dataset\n",
    "print(\"Dimensiones del dataset:\")\n",
    "print(df.shape)\n",
    "\n",
    "print(\"\\nTipos de datos:\")\n",
    "print(df.dtypes)\n",
    "\n",
    "print(\"\\nAlgunas filas del dataset:\")\n",
    "# Acá cambio y elijo mostrar un sampleo más grande. La idea es no ver registros contiguos que puedan\n",
    "    # tener cierta correlación en la falta de datos\n",
    "display(df.sample(20, random_state=0))"
   ]
  },
  {
   "cell_type": "markdown",
   "id": "fe9197e2",
   "metadata": {},
   "source": [
    "En la tabla cada fila representa una columna del DataFrame. Esto significa lo siguiente:\n",
    "\n",
    "Column: el nombre de la columna, por ejemplo, orden, sitios, codigo, etc.\n",
    "\n",
    "Non-Null Count: cantidad de valores que no están vacíos (no son NaN) en esa columna. Por ejemplo, orden tiene 589 valores no nulos, lo que implica que 24 filas tienen datos faltantes en esa columna (613 - 589 = 24).\n",
    "\n",
    "Dtype: el tipo de dato que tiene esa columna:\n",
    "\n",
    "- float64: números decimales.\n",
    "- object: generalmente texto o una mezcla de tipos (podrían ser números como texto, fechas mal interpretadas, etc.)."
   ]
  },
  {
   "cell_type": "markdown",
   "id": "c44563dd",
   "metadata": {},
   "source": [
    "Al revisar los tipos de datos, la mayoría de las columnas están clasificadas como objetos (object). Esto indica que dichas variables o bien contienen datos categóricos o que algunos de sus valores numéricos tienen cierta codificación en formato string (como podría ser el caso de valores faltantes o inexistentes). En este caso, observamos que algunas variables numéricas tienen registros a los que se les asigna una cadena de caracteres en lugar de un valor numérico, correspondiendo estos casos a valores faltantes.\n",
    "\n",
    "Se observa también gran cantidad de valores faltantes en las variables añadidas del CENSO y del Programa de Estudios del Conurbano."
   ]
  },
  {
   "cell_type": "markdown",
   "id": "f7891a73",
   "metadata": {},
   "source": [
    "#### Clasificación de las variables"
   ]
  },
  {
   "cell_type": "markdown",
   "id": "d40ad97f",
   "metadata": {},
   "source": [
    "En las siguientes listas clasificamos las variables según su tipo, observando sus valores e interpretaciones."
   ]
  },
  {
   "cell_type": "code",
   "execution_count": null,
   "id": "be2541dd",
   "metadata": {},
   "outputs": [],
   "source": [
    "numericas = [\n",
    "    'tem_agua',\n",
    "    'tem_aire',\n",
    "    'od',\n",
    "    'ph',\n",
    "    'colif_fecales_ufc_100ml',\n",
    "    'escher_coli_ufc_100ml',\n",
    "    'enteroc_ufc_100ml',\n",
    "    'nitrato_mg_l',\n",
    "    'nh4_mg_l',\n",
    "    'p_total_l_mg_l',\n",
    "    'fosf_ortofos_mg_l',\n",
    "    'dbo_mg_l',\n",
    "    'dqo_mg_l',\n",
    "    'turbiedad_ntu',\n",
    "    'hidr_deriv_petr_ug_l',\n",
    "    'cr_total_mg_l',\n",
    "    'cd_total_mg_l',\n",
    "    'clorofila_a_ug_l',\n",
    "    'microcistina_ug_l',\n",
    "    'ica',\n",
    "    'Poblacion_partido',\n",
    "    'Personas_con_cloacas',\n",
    "]\n",
    "\n",
    "categoricas = [\n",
    "    'orden',\n",
    "    'sitios',\n",
    "    'codigo',\n",
    "    'campaña',\n",
    "    'olores',\n",
    "    'color',\n",
    "    'espumas',\n",
    "    'mat_susp',\n",
    "    'calidad_de_agua',\n",
    "    'gobierno_local',\n",
    "    'sitio',\n",
    "    'Actividad_principal',\n",
    "    'Agricultura, ganadería, caza y silvicultura',\n",
    "    'Pesca explotación de criaderos de peces y granjas piscícolas y servicios conexos',\n",
    "    'Explotación de minas y canteras',\n",
    "    'Industria Manufacturera',\n",
    "    'Electricidad, gas y agua',\n",
    "    'Construcción',\n",
    "    'Servicios',\n",
    "    'fecha',\n",
    "    'año',\n",
    "    'latitud',\n",
    "    'longitud',\n",
    "]\n",
    "\n",
    "print(\"Cantidad de:\")\n",
    "print(f\"\\tVariables numéricas:   {len(numericas)}\")\n",
    "print(f\"\\tVariables categóricas: {len(categoricas)}\")"
   ]
  },
  {
   "cell_type": "markdown",
   "id": "64e72762",
   "metadata": {},
   "source": [
    "**Notas:** Las variables categóricas fecha y año pueden ser usadas para crear una variable numérica tiempo que mida el transcurso del tiempo desde la primer medición (o desde alguna otra referencia), es decir, tenemos en estas codificadas información numérica, pero las clasificamos como categóricas."
   ]
  },
  {
   "cell_type": "markdown",
   "id": "32ecaf27",
   "metadata": {},
   "source": [
    "Veamos la cantidad de valores únicos de cada variable."
   ]
  },
  {
   "cell_type": "code",
   "execution_count": null,
   "id": "bab5501e",
   "metadata": {},
   "outputs": [],
   "source": [
    "# Crear DataFrame para clasificar variables y mostrar en tabla\n",
    "variables = pd.DataFrame({\n",
    "    'Variable': df.columns,\n",
    "    'Tipo': ['Numerica' if col in numericas else 'Categorica' for col in df.columns],\n",
    "    'Cantidad de valores únicos': [df[col].nunique() for col in df.columns]\n",
    "})\n",
    "\n",
    "display(variables)\n",
    "\n"
   ]
  },
  {
   "cell_type": "markdown",
   "id": "e8a66eab",
   "metadata": {},
   "source": [
    "#### Calidad de los datos"
   ]
  },
  {
   "cell_type": "markdown",
   "id": "c454db97",
   "metadata": {},
   "source": [
    "Vemos los porcentajes de valores no numéricos, nulos y vacíos -carácter \"\"- en las columnas numéricas. \n",
    "Además, vemos la cantidad de valores de forma forma '<{n}', con n un número. Estos últimos no son contabilizados\n",
    "dentro de los valores no numéricos en esta sección."
   ]
  },
  {
   "cell_type": "code",
   "execution_count": null,
   "id": "1a0099fc",
   "metadata": {},
   "outputs": [],
   "source": [
    "# Patrón para valores como <n\n",
    "patron = re.compile(r'^<\\d+\\.?\\d*$')  # Acepta <3, <3.5, etc.\n",
    "\n",
    "print(\"Porcentaje de:\")\n",
    "print(\"Columna\\t\\t\\t\\tCeros\\tNo numéricos\\tCon forma '<x'\\tNulos\\tVacíos\")\n",
    "print(\"______________________________________________________________________________________\")\n",
    "for col in numericas:\n",
    "    # Intentar convertir a numérico\n",
    "    valores_numericos = pd.to_numeric(df[col], errors='coerce')\n",
    "    no_numericos = df[col][valores_numericos.isna() & df[col].notna()]\n",
    "    \n",
    "    # Contar cantidad de valores ...\n",
    "    cantidad_no_numericos = len(no_numericos) # no numéricos\n",
    "    cantidad_ceros = (df[col] == 0).sum() # iguales a cero\n",
    "    vacios = df[col].str.strip().eq(\"\").sum() # Vacíos -carácter \"\" o algún tipo de espacio-\n",
    "    nulos = df[col].isnull().sum() # Nulos\n",
    "    if cantidad_no_numericos != 0:\n",
    "        valores_menor_que = no_numericos.apply(lambda x: bool(patron.match(str(x)))).sum() # Valores de forma '<x'\n",
    "    else:\n",
    "        valores_menor_que = 0\n",
    "    \n",
    "    # Cálculo de porcentajes\n",
    "    total = len(df)\n",
    "    porc_ceros = cantidad_ceros*100/total\n",
    "    porc_no_numericos = (cantidad_no_numericos-valores_menor_que)*100/total\n",
    "    porc_menores_que = valores_menor_que*100/total\n",
    "    porc_nulos = nulos*100/total\n",
    "    porc_vacios = vacios*100/total\n",
    "    print(f\"{col:<{25}}\\t{porc_ceros:5.2f}\\t   {porc_no_numericos:5.2f}\\t    {porc_menores_que:5.2f}\\t{porc_nulos:5.2f}\\t{porc_vacios:5.2f}\")"
   ]
  },
  {
   "cell_type": "markdown",
   "id": "41e5032f",
   "metadata": {},
   "source": [
    "Observamos ahora los porcentajes de valores nulos y vacíos de las variables categóricas"
   ]
  },
  {
   "cell_type": "code",
   "execution_count": null,
   "id": "bc5557b8",
   "metadata": {},
   "outputs": [],
   "source": [
    "print(\"Porcentaje de:\")\n",
    "print(\"Columna\\t\\t\\t\\tNulos\\tVacíos\")\n",
    "print(\"______________________________________________________________________________________\")\n",
    "for col in categoricas:\n",
    "    # Convertir temporalmente a string\n",
    "    columna_str = df[col].astype(str)\n",
    "    \n",
    "    # Contar cantidad de valores ...\n",
    "    vacios = columna_str.str.strip().eq(\"\").sum() # Vacíos -carácter \"\" o algún tipo de espacio-\n",
    "    nulos = df[col].isnull().sum() # Nulos\n",
    "    \n",
    "    # Cálculo de porcentajes\n",
    "    total = len(df)\n",
    "    porc_nulos = nulos*100/total\n",
    "    porc_vacios = vacios*100/total\n",
    "    print(f\"{col[:25]:<{25}}\\t{porc_nulos:5.2f}\\t{porc_vacios:5.2f}\")"
   ]
  },
  {
   "cell_type": "markdown",
   "id": "8a9398d5",
   "metadata": {},
   "source": [
    "Visualizamos brevemente cómo se relacionan los datos faltantes de las variables, observando una muestra de todo el dataset para mayor claridad"
   ]
  },
  {
   "cell_type": "code",
   "execution_count": null,
   "id": "8077c5ef",
   "metadata": {},
   "outputs": [],
   "source": [
    "matrix(df.sample(250))\n",
    "heatmap(df.sample(250))"
   ]
  },
  {
   "cell_type": "markdown",
   "id": "04cde600",
   "metadata": {},
   "source": [
    "Se observa una fuerte correlación entre datos faltantes. En particular, se ve que hay fuerte correlación entre los datos faltantes de las variables provistas por el Ministerio de Ambiente y Desarrollo Sostenible y entre los datos faltantes de las variables del CENSO y del Programa de Estudios del Conurbano."
   ]
  },
  {
   "cell_type": "markdown",
   "id": "5bccbf09",
   "metadata": {},
   "source": [
    "#### Observamos la variable objetivo: ICA"
   ]
  },
  {
   "cell_type": "code",
   "execution_count": null,
   "id": "57853dbf",
   "metadata": {},
   "outputs": [],
   "source": [
    "print(\"Resumen de descripción de la variable objetivo ICA\")\n",
    "\n",
    "col = 'ica'\n",
    "\n",
    "# Total de valores\n",
    "total = df[col].shape[0]\n",
    "\n",
    "# Valores nulos\n",
    "nulos = df[col].isnull().sum()\n",
    "\n",
    "# Valores vacíos o espacios en blanco\n",
    "faltantes = df[col].astype(str).str.strip().replace('', pd.NA).isna().sum()\n",
    "\n",
    "# Detectar valores mal cargados (no convertibles a numérico, excluyendo nulos)\n",
    "valores_convertidos = pd.to_numeric(df[col], errors='coerce')\n",
    "mal_cargados_mask = valores_convertidos.isna() & (~df[col].isnull())\n",
    "mal_cargados = df.loc[mal_cargados_mask, col]\n",
    "\n",
    "# Cantidad de valores mal cargados\n",
    "cant_mal_cargados = mal_cargados.shape[0]\n",
    "\n",
    "# Crear tabla resumen\n",
    "resumen = pd.DataFrame({\n",
    "    'Descripción': ['Total de valores', 'Valores nulos (NaN)', 'Valores vacíos/faltantes', 'Valores mal cargados'],\n",
    "    'Cantidad': [total, nulos, faltantes, cant_mal_cargados]\n",
    "})\n",
    "\n",
    "display(resumen)\n",
    "\n",
    "# Mostrar tabla con valores mal cargados\n",
    "print(f\"\\nValores mal cargados en '{col}':\")\n",
    "display(mal_cargados.reset_index(drop=True))"
   ]
  },
  {
   "cell_type": "markdown",
   "id": "0e95f8bc",
   "metadata": {},
   "source": [
    "Observamos que los valores mal cargados de ICA se corresponden a valores falantes."
   ]
  },
  {
   "cell_type": "markdown",
   "id": "a472649f",
   "metadata": {},
   "source": [
    "## Analisis exploratorio"
   ]
  },
  {
   "cell_type": "markdown",
   "id": "307acb4e",
   "metadata": {},
   "source": [
    "La información general del dataset muestra un total de 613 registros distribuidos en 45 columnas. Sin embargo, no todas las columnas tienen la misma cantidad de datos completos. Algunas presentan valores faltantes, como es el caso de tem_aire , lo que indica que ciertas observaciones no fueron medidas o registradas en todas las campañas o estaciones.\n",
    "\n",
    "Además, se nota que la mayoría de las columnas están tipadas como object, incluso aquellas que deberían contener valores numéricos, como od, nitrato_mg_l, entre otras. Esto sugiere que probablemente haya que hacer una conversión de tipos para poder analizarlas correctamente, ya sea por el uso de comas como separadores decimales o por la presencia de caracteres no numéricos.\n",
    "\n",
    "Esta revisión general  permite detectar desde el inicio qué variables requieren limpieza o transformación antes de cualquier análisis o modelado más avanzado. También da una idea del nivel de completitud de los datos y de los posibles desafíos que habrá que enfrentar en el preprocesamiento."
   ]
  },
  {
   "cell_type": "markdown",
   "id": "4e9308af",
   "metadata": {},
   "source": [
    "Previo a continuar con un análisis más detallado de los datos, se observa que:\n",
    "- En muchas variabes numéricas tenemos valores dados por cadenas de caracteres como 'no detectados'. Estos corresponden a valores faltantes, por lo que se transformarán en NaN\n",
    "- Por otro lado, tenemos valores en variables numéricas de la forma '<100', estos corresponden a casos en los que se detectó la sustancia medida, pero no puede determinarse su cantidad al ser esta menor al LOQ. A falta de un mejor criterio, de momento, estos valores se imputarán como 0. Como no hay ceros en las variables numéricas, es seguro haceer esto.\n",
    "- En la variable fecha tenemos strings como \"no se midió\" o números como 45623, que no corresponden a fechas válidas. Se interpreta como causa la conversión automática que hace Excel si no se le especifica el formato fecha Se aplica una función de python para detectar dichos casos y convertirlos a formato dd/mm/yyyy. Aquellos valores que no tengan la forma dd/mm/aaaa serán convertidos a null.\n",
    "- En la variable campaña, tenemos algunos valores con mayúsculas y otros con minúsculas. Se pasan todos a minúscula. Se imputan los valores mal imputados como None.\n",
    "- En algunas variables categóricas como olores, color, espumas y mat_susp, en las que los valores admitidos son Ausencia o Presencia, tenemos otros valores asignados, como por ejemplo 'en obra', que corresponden a valores faltantes. Estos se imputan como None. Además, uniformizamos los valores para tener sólo \"Ausente\" o \"Presente\", puesto que también están presentes las opciones 'Ausencia'/'Presencia' y sus versiones en minúscula.\n",
    "- Algo similar ocurre en calidad del auga. Se procede de forma similar.\n",
    "\n",
    "Antes de proseguir con un análisis más detallado, realizamos algunas correcciones sobre el dataset. Luego, durante el análisis, hacemos una comparación entre el dataset original y el obtenido luego de corregir los puntos anteriores."
   ]
  },
  {
   "cell_type": "markdown",
   "id": "2d684bb1",
   "metadata": {},
   "source": [
    "#### Corrección dataset"
   ]
  },
  {
   "cell_type": "markdown",
   "id": "898af3bd",
   "metadata": {},
   "source": [
    "Se crea función para identificar casos de fechas del estilo '45623' y se convierten al formato dd/mm/yyyy"
   ]
  },
  {
   "cell_type": "code",
   "execution_count": null,
   "id": "c1c72517",
   "metadata": {},
   "outputs": [],
   "source": [
    "from datetime import datetime, timedelta\n",
    "\n",
    "df1 = df.copy(deep=True)\n",
    "# Function to convert Excel serial number to date string\n",
    "def convert_excel_serial_date(value):\n",
    "    # print(type(value))\n",
    "    if pd.isna(value):\n",
    "        return value\n",
    "    elif value == \"31/10/0202\":\n",
    "        return \"31/10/2022\"\n",
    "    elif \"/\" not in value and \"no\" not in value:\n",
    "        int(value)\n",
    "        base_date = datetime(1899, 12, 30)\n",
    "        after_value = (base_date + timedelta(days=int(value))).strftime(\"%d/%m/%Y\")\n",
    "        print(f\"Converting {value} to {after_value}\")\n",
    "        return after_value\n",
    "    return value\n",
    "\n",
    "# Apply fix\n",
    "df1[\"fecha\"] = df1[\"fecha\"].apply(convert_excel_serial_date)"
   ]
  },
  {
   "cell_type": "code",
   "execution_count": null,
   "id": "610b2aff",
   "metadata": {},
   "outputs": [],
   "source": [
    "# Seteamos a NaT los valores de fecha incorrectos para contabilizar correctamente la cantidad de valores nulos\n",
    "    # en la columna fecha\n",
    "# Ejemplo de DataFrame\n",
    "# 1. Convertir a datetime con formato dd/mm/aaaa, forzando errores a NaN\n",
    "df2 = df1.copy(deep=True)\n",
    "df2['fecha'] = pd.to_datetime(df2['fecha'], format='%d/%m/%Y', errors='coerce')"
   ]
  },
  {
   "cell_type": "code",
   "execution_count": null,
   "id": "420bd8d5",
   "metadata": {},
   "outputs": [],
   "source": [
    "# Reemplazamos los valores no numéricos y de la forma '<x'\n",
    "df3 = df2.copy(deep=True)\n",
    "\n",
    "for col in numericas:\n",
    "    # Convertir valores '<x' a '0'\n",
    "    valores = df3[col].astype(str)  # Convertir todo a string para comparar\n",
    "    mascara_menor_que = valores.apply(lambda x: bool(patron.match(x)))\n",
    "    df3.loc[mascara_menor_que, col] = '0'\n",
    "    \n",
    "    # Convertir la columna a numérico (los strings no convertibles irán a NaN)\n",
    "    df3[col] = pd.to_numeric(df3[col], errors='coerce')"
   ]
  },
  {
   "cell_type": "code",
   "execution_count": null,
   "id": "bbd9c8a7",
   "metadata": {},
   "outputs": [],
   "source": [
    "# Pasamos todos los valores de campaña a minúscula\n",
    "df4 = df3.copy(deep=True)\n",
    "df4['campaña'] = df4['campaña'].str.lower().where(df4['campaña'].notna(), None)\n",
    "\n",
    "print(f\"Antes de la transformación:\\n {df3['campaña'].unique()}\")\n",
    "print(f\"Después de la transformación:\\n {df4['campaña'].unique()}\")"
   ]
  },
  {
   "cell_type": "code",
   "execution_count": null,
   "id": "4fa2b86f",
   "metadata": {},
   "outputs": [],
   "source": [
    "'''\n",
    "Se convierten a None aquellos valores mal asignados en la columna campaña\n",
    "'''\n",
    "print(f\"Antes de la transformación:\\n {df4['campaña'].unique()}\")\n",
    "\n",
    "col = 'campaña'\n",
    "patron = re.compile(r'^(verano|otoño|invierno|primavera)', flags=re.IGNORECASE)\n",
    "\n",
    "df4[col] = df4[col].where(\n",
    "    df4[col].astype(str).str.contains(patron, na=False)\n",
    ")\n",
    "print(f\"Después de la transformación:\\n {df4['campaña'].unique()}\")"
   ]
  },
  {
   "cell_type": "code",
   "execution_count": null,
   "id": "873edf16",
   "metadata": {},
   "outputs": [],
   "source": [
    "'''\n",
    "En aquellas columnas que sólo admiten valores Asencia/Presencia, imputamos como None aquellos que no\n",
    "correspondan a alguna de las correspondientes categorías. Además, uniformamos los valores a 'Ausente'/'Presente'\n",
    "'''\n",
    "# Copia del DataFrame\n",
    "df5 = df4.copy(deep=True)\n",
    "\n",
    "# Columnas a procesar\n",
    "cols_a_p = ['olores', 'color', 'espumas', 'mat_susp']\n",
    "\n",
    "# Patrón para detectar \"ausencia/presencia\" (ignorando mayúsculas y variantes)\n",
    "patron = re.compile(r'^(ausen|presen)', flags=re.IGNORECASE)\n",
    "\n",
    "for col in cols_a_p:\n",
    "    print(f\"Columna: {col}\")\n",
    "    # Extraer la raíz (primeras 5-6 letras) del valor\n",
    "    raiz_valor = df5[col].astype(str).str.extract(patron)[0]\n",
    "    \n",
    "    # Mapear a \"Ausente\" o \"Presente\" (y NaN si no coincide)\n",
    "    df5[col] = raiz_valor.str.lower().map(\n",
    "        {\n",
    "            'ausen': 'Ausente',\n",
    "            'presen': 'Presente'\n",
    "        }\n",
    "    )\n",
    "    print(f\"\\tAntes:\\n\\t\\t{df4[col].unique()}\")\n",
    "    print(f\"\\tDespués:\\n\\t\\t{df5[col].unique()}\")"
   ]
  },
  {
   "cell_type": "code",
   "execution_count": null,
   "id": "17b2fb24",
   "metadata": {},
   "outputs": [],
   "source": [
    "# Se imputan como None aquellos valores no válidos en calidad_de_agua\n",
    "df6 = df5.copy()\n",
    "\n",
    "opciones_validas_calidad = [\n",
    "    'Apta',\n",
    "    'Levemente deteriorada',\n",
    "    'Deteriorada',\n",
    "    'Muy deteriorada',\n",
    "    'Extremadamente deteriorada'\n",
    "]\n",
    "df6['calidad_de_agua'] = df6['calidad_de_agua'].where(df6['calidad_de_agua'].isin(opciones_validas_calidad))\n",
    "\n",
    "print(f\"Antes de la transformación:\\n {df5['calidad_de_agua'].unique()}\")\n",
    "print(f\"Después de la transformación:\\n {df6['calidad_de_agua'].unique()}\")"
   ]
  },
  {
   "cell_type": "code",
   "execution_count": null,
   "id": "7fc99547",
   "metadata": {},
   "outputs": [],
   "source": [
    "\"\"\"\n",
    "Por último, observo que los valores de las variables Poblacion_partido y Personas_con_cloacas me quedaron como \n",
    "punto flotantes, pues los puntos que separaban cada 3 cifras en español fueron interpretados como comas.\n",
    "Arreglo este problema\n",
    "\"\"\"\n",
    "df7 = df6.copy()\n",
    "for col in ['Poblacion_partido', 'Personas_con_cloacas']:\n",
    "    max_decimales = df7[col].dropna().apply(lambda x: len(str(x).split('.')[1])).max()\n",
    "    # Convertir multiplicando por 10^max_decimales\n",
    "    df7[col] = (df7[col] * (10 ** max_decimales)).astype('Int64')"
   ]
  },
  {
   "cell_type": "code",
   "execution_count": null,
   "id": "62f50bb9",
   "metadata": {},
   "outputs": [],
   "source": [
    "display(df7.sample(20, random_state=0))"
   ]
  },
  {
   "cell_type": "code",
   "execution_count": null,
   "id": "52a5ac93",
   "metadata": {},
   "outputs": [],
   "source": [
    "# Comparamos info general del dataset original y el corregido\n",
    "print(\"\\tColumna\\t\\t\\t\\t\\tTipo Orig\\tNulos Orig (%)\\tTipo Corr.\\tNulos Corr. (%)\")\n",
    "print(\"_______________________________________________________________________________________________________________\")\n",
    "print(\"\")\n",
    "total = len(df)\n",
    "for col in df.columns:\n",
    "    # Tipo de datos de la columna\n",
    "    tipo_dato_original = df[col].dtype\n",
    "    tipo_dato_corregido = df7[col].dtype\n",
    "    # Cantidad de datos no nulos\n",
    "    no_nulos_orginal = df[col].count()\n",
    "    no_nulos_corregido = df7[col].count()\n",
    "    # Porcentaje de datos nulos\n",
    "    nulos_orig = 100 - no_nulos_orginal*100/total\n",
    "    nulos_corr = 100 - no_nulos_corregido*100/total\n",
    "    print(f\"\\t{col[:26]:<{25}}\\t\\t  {str(tipo_dato_original):<{7}}\\t  {nulos_orig:5.2f}\\t\\t {str(tipo_dato_corregido)[:8]:<{7}}\\t   {nulos_corr:5.2f}\")"
   ]
  },
  {
   "cell_type": "markdown",
   "id": "9cb1a71e",
   "metadata": {},
   "source": [
    "**Procesamiento de datos**"
   ]
  },
  {
   "cell_type": "markdown",
   "id": "ca77c148",
   "metadata": {},
   "source": [
    "Indica cuántos registros están completamente duplicados, es decir, que repiten todos los valores en todas sus columnas. Este paso permite asegurarse de que no haya información repetida que pueda sesgar los análisis o inflar resultados sin aportar datos nuevos. Saber si existen duplicados también ayuda a decidir si es necesario limpiar el dataset antes de seguir trabajando."
   ]
  },
  {
   "cell_type": "code",
   "execution_count": null,
   "id": "01c9e9e2",
   "metadata": {},
   "outputs": [],
   "source": [
    "# Datos duplicados\n",
    "print(\"\\nCantidad de datos duplicados:\")\n",
    "print(df.duplicated().sum())"
   ]
  },
  {
   "cell_type": "markdown",
   "id": "19252a9e",
   "metadata": {},
   "source": [
    "**Identificacion de datos duplicados**"
   ]
  },
  {
   "cell_type": "markdown",
   "id": "a2301197",
   "metadata": {},
   "source": [
    "Este analisis permite identificar si existen registros exactamente repetidos dentro del dataset. Primero se confirmó cuántas filas completas están duplicadas, lo que indica que ciertos registros fueron cargados más de una vez sin ningún cambio en ninguna de sus columnas. Estas filas duplicadas fueron mostradas en una tabla para poder inspeccionarlas visualmente y decidir si conviene eliminarlas en el preprocesamiento.\n",
    "\n",
    "Luego se revisó cada columna por separado para detectar si contiene valores repetidos, aunque no necesariamente en filas idénticas. Esto ayuda a identificar, por ejemplo, si hay valores que se repiten demasiado en campos que deberían ser únicos (como una estación de monitoreo o una fecha) o si hay agrupamientos naturales que podrían aprovecharse durante el análisis."
   ]
  },
  {
   "cell_type": "code",
   "execution_count": null,
   "id": "cb87a25a",
   "metadata": {},
   "outputs": [],
   "source": [
    "# Filas duplicadas\n",
    "print(\"\\nCantidad de filas duplicadas:\")\n",
    "print(df.duplicated().sum())\n",
    "\n",
    "print(\"\\nFilas duplicadas:\")\n",
    "duplicadas = df[df.duplicated()]\n",
    "display(duplicadas)\n",
    "\n",
    "# Valores duplicados de cada columna\n",
    "print(\"\\nColumnas con valores duplicados:\")\n",
    "for col in df.columns:\n",
    "    valores_duplicados = df[col][df[col].duplicated()].unique()\n",
    "    if len(valores_duplicados) > 0:\n",
    "        print(f\"\\nColumna: {col}\")\n",
    "        print(f\"Valores duplicados: {valores_duplicados}\")"
   ]
  },
  {
   "cell_type": "markdown",
   "id": "2bd3acf8",
   "metadata": {},
   "source": [
    "**Valores faltantes - Datos vacios o con NaN**"
   ]
  },
  {
   "cell_type": "markdown",
   "id": "acda8528",
   "metadata": {},
   "source": [
    "Este código analiza un DataFrame y genera una tabla resumen que muestra cuántos datos faltantes tiene cada columna. Lo que hace es calcular cuántos valores son NaN, cuántos son cadenas vacías \"\", y luego suma ambos para obtener el total de faltantes. A partir de eso, también calcula el porcentaje que representan esos valores faltantes en relación al total de filas del DataFrame.\n",
    "\n",
    "El resultado es una tabla con cuatro columnas: una con la cantidad de valores NaN, otra con la cantidad de celdas vacías como texto, otra con el total combinado de valores faltantes, y una última con el porcentaje de datos incompletos. Esta tabla se muestra con un estilo visual que aplica una escala de color que va del verde al azul para resaltar visualmente las columnas con más valores faltantes. Cuanto más alto es el valor, más oscuro es el color de fondo.\n",
    "\n",
    "Además, la columna que muestra el porcentaje de faltantes aplica un formato especial: si ese porcentaje supera el 50%, el valor aparece resaltado en rojo y en negrita. Esto permite identificar rápidamente qué variables están críticamente incompletas y podrían requerir limpieza o eliminación.\n"
   ]
  },
  {
   "cell_type": "code",
   "execution_count": null,
   "id": "7f65bc0b",
   "metadata": {},
   "outputs": [],
   "source": [
    "# Calcular valores faltantes\n",
    "nan_counts = df.isna().sum()\n",
    "empty_counts = (df == \"\").sum()\n",
    "total_faltantes = df.isna() | (df == \"\")\n",
    "total_missing_counts = total_faltantes.sum()\n",
    "porcentaje = (total_missing_counts / len(df) * 100)\n",
    "\n",
    "# Detectar valores mal cargados en variables numéricas\n",
    "mal_cargados_counts = {}\n",
    "num_cols = df.select_dtypes(include=[np.number]).columns.tolist()\n",
    "\n",
    "# Para columnas que no son numéricas, intentar convertir y contar errores\n",
    "for col in df.columns:\n",
    "    # Solo columnas no numéricas\n",
    "    if col not in num_cols:\n",
    "        converted = pd.to_numeric(df[col], errors='coerce')\n",
    "        mal_cargados_counts[col] = converted.isna().sum() - nan_counts[col]\n",
    "    else:\n",
    "        mal_cargados_counts[col] = 0  # Asumimos que numéricas están correctas o NaN ya contados\n",
    "\n",
    "mal_cargados_counts = pd.Series(mal_cargados_counts)\n",
    "\n",
    "# Crear resumen completo\n",
    "summary = pd.DataFrame({\n",
    "    \"Valores NaN\": nan_counts,\n",
    "    \"Vacíos ('')\": empty_counts,\n",
    "    \"Total Faltantes\": total_missing_counts,\n",
    "    \"Mal cargados\": mal_cargados_counts,\n",
    "    \"Porcentaje (%)\": porcentaje\n",
    "})\n",
    "\n",
    "# Función para resaltar en rojo si el porcentaje es crítico (> 50%)\n",
    "def resaltar_porcentaje(col):\n",
    "    return ['color: red; font-weight: bold' if v > 50 else '' for v in col]\n",
    "\n",
    "# Aplicar estilos\n",
    "summary.style\\\n",
    "    .background_gradient(cmap=\"BuGn\")\\\n",
    "    .format({\"Porcentaje (%)\": \"{:.2f}\"})\\\n",
    "    .apply(resaltar_porcentaje, subset=[\"Porcentaje (%)\"])\\\n",
    "    .set_caption(\"Resumen de Datos Faltantes e Inconsistentes\")\\\n",
    "    .set_properties(**{'text-align': 'center'})"
   ]
  },
  {
   "cell_type": "markdown",
   "id": "0bf13e4b",
   "metadata": {},
   "source": [
    "**Resumen estadistico**"
   ]
  },
  {
   "cell_type": "markdown",
   "id": "d1c4de39",
   "metadata": {},
   "source": [
    "Al ejecutar el resumen estadístico del dataset, el objetivo principal es obtener una visión general cuantitativa y cualitativa de cada variable. Esto incluye información como: la cantidad de datos disponibles, los valores únicos, la moda, la media, la mediana, los cuartiles, el mínimo y el máximo, así como la desviación estándar para las variables numéricas.\n",
    "\n",
    "Este análisis permite identificar rápidamente la distribución y características principales de los datos, detectar posibles valores atípicos, entender la diversidad o repetición en variables categóricas, y evaluar la calidad y completitud de la información."
   ]
  },
  {
   "cell_type": "code",
   "execution_count": null,
   "id": "46404e86",
   "metadata": {},
   "outputs": [],
   "source": [
    "# Resumen estadistico\n",
    "resumen = df.describe(include='all')\n",
    "\n",
    "# Renombrar índices al español\n",
    "resumen.rename(index={\n",
    "    'count': 'Cantidad de datos',\n",
    "    'unique': 'Valores únicos',\n",
    "    'top': 'Valor más frecuente',\n",
    "    'freq': 'Frecuencia',\n",
    "    'mean': 'Promedio',\n",
    "    'std': 'Desviación estándar',\n",
    "    'min': 'Mínimo',\n",
    "    '25%': 'Percentil 25',\n",
    "    '50%': 'Mediana (Percentil 50)',\n",
    "    '75%': 'Percentil 75',\n",
    "    'max': 'Máximo'\n",
    "}, inplace=True)\n",
    "\n",
    "# Función para alternar colores en filas\n",
    "def estilo_tabla(s):\n",
    "    colores = ['#f9f9f9', '#e0f7fa']\n",
    "    return ['background-color: {}'.format(colores[i % 2]) for i in range(len(s))]\n",
    "\n",
    "# Aplicar estilo y mostrar\n",
    "styled_resumen = resumen.style.apply(estilo_tabla, axis=0)\\\n",
    "                             .set_properties(**{'font-weight': 'bold'}, subset=pd.IndexSlice[['Cantidad de datos', 'Valores únicos', 'Frecuencia', 'Desviación estándar'], :])\\\n",
    "                             .set_table_styles([{\n",
    "                                'selector': 'th',\n",
    "                                'props': [('background-color', '#00796b'), ('color', 'white'), ('font-weight', 'bold')]\n",
    "                             }])\n",
    "\n",
    "print(\"\\nResumen estadístico\")\n",
    "display(styled_resumen)"
   ]
  },
  {
   "cell_type": "markdown",
   "id": "d4c1ff1b",
   "metadata": {},
   "source": [
    "Al observar el resumen estadístico del dataset, se puede observar que algunas columnas tienen una cantidad menor de datos registrados, lo que indica la presencia de valores faltantes. Por ejemplo, mientras que variables como el código o la fecha cuentan con casi todos los datos, otras como las mediciones químicas o físicas tienen menos registros completos.\n",
    "\n",
    "Se destaca que algunas columnas contienen valores categóricos, como el nombre de los sitios, la campaña o la estación del año, donde el valor más frecuente se repite muchas veces, reflejando condiciones comunes o datos estándar (como “invierno” o “Ausencia” en ciertas mediciones).\n",
    "\n",
    "En las columnas numéricas, el promedio, la desviación estándar y los percentiles muestran la distribución de los datos cuando están presentes, pero muchos valores son nulos, lo que implica que será necesario realizar un tratamiento especial para estos datos faltantes antes de hacer un análisis más profundo."
   ]
  },
  {
   "cell_type": "markdown",
   "id": "135ecb6a",
   "metadata": {},
   "source": [
    "**Distribucion de las variables**"
   ]
  },
  {
   "cell_type": "markdown",
   "id": "8d7ec1dd",
   "metadata": {},
   "source": [
    "Los gráfico de histogramas muestra cómo se distribuyen los valores de cada variable numérica en el dataset. Permite visualizar si los datos están concentrados alrededor de ciertos rangos, si presentan sesgos hacia un extremo, o si existen valores atípicos o outliers. Además, ayuda a identificar la forma de la distribución por ejemplo, si es normal, sesgada o multimodal."
   ]
  },
  {
   "cell_type": "code",
   "execution_count": null,
   "id": "a5bcba80",
   "metadata": {},
   "outputs": [],
   "source": [
    "# Seleccionar columnas numéricas excepto 'orden'\n",
    "num_cols = [col for col in df.select_dtypes(include=np.number).columns if col.lower() != 'orden']\n",
    "\n",
    "# Graficar histogramas solo para esas columnas\n",
    "df[num_cols].hist(bins=30, figsize=(18, 12))\n",
    "plt.suptitle(\"Distribución de las variables (excluyendo 'orden')\", fontsize=16)\n",
    "plt.tight_layout()\n",
    "plt.show()"
   ]
  },
  {
   "cell_type": "markdown",
   "id": "a731735a",
   "metadata": {},
   "source": [
    "En Agricultura, ganadería, caza y silvicultura, las categorías 0 y 4 son las más frecuentes, con una presencia destacada también de las categorías 1 y 3. Esto indica que ciertas actividades o subsectores dentro de esta área son más comunes en los datos.\n",
    "\n",
    "En el sector de Pesca y explotación de criaderos de peces y granjas piscícolas, la categoría 4 tiene la mayor frecuencia, seguida por las categorías 2, 3 y 5, mostrando una concentración significativa en estas actividades específicas.\n",
    "\n",
    "Para la Explotación de minas y canteras, la categoría 0 es la que domina ampliamente, con la categoría 4 también teniendo un peso considerable. Esto refleja una concentración en ciertas actividades mineras o extractivas dentro del dataset.\n",
    "\n",
    "En la Industria manufacturera, la categoría 4 es claramente la más frecuente, seguida por las categorías 2, 6 y 7, lo que señala que una parte importante de la industria representada se centra en esos subsectores.\n",
    "\n",
    "En el sector de Electricidad, gas y agua, la categoría 5 destaca por su alta frecuencia, con presencia moderada de las categorías 1, 3 y 6, reflejando la distribución de actividades en servicios públicos.\n",
    "\n",
    "En Construcción, la categoría 3 tiene la mayor frecuencia, seguida por las categorías 1, 5 y 6, mostrando una variedad de subsectores con una concentración significativa en ciertos tipos de construcción.\n",
    "\n",
    "Finalmente, en Servicios, la categoría 4 es la más común, con las categorías 1, 3 y 6 también presentes en proporciones relevantes, indicando la diversidad dentro del sector servicios y ciertos subgrupos predominantes.\n",
    "\n",
    "\n",
    "\n"
   ]
  },
  {
   "cell_type": "markdown",
   "id": "d056fb9f",
   "metadata": {},
   "source": [
    "**Datos atipicos**"
   ]
  },
  {
   "cell_type": "markdown",
   "id": "2f7467c3",
   "metadata": {},
   "source": [
    "Se excluyo la columna orden"
   ]
  },
  {
   "cell_type": "code",
   "execution_count": null,
   "id": "18d231ac",
   "metadata": {},
   "outputs": [],
   "source": [
    "# Seleccionar columnas numéricas excluyendo 'orden'\n",
    "num_cols = [col for col in df.select_dtypes(include=np.number).columns if col.lower() != 'orden']\n",
    "\n",
    "plt.figure(figsize=(18, 8))\n",
    "sns.boxplot(data=df[num_cols])\n",
    "plt.title(\"Detección de outliers en variables numéricas\")\n",
    "\n",
    "# Modificar etiquetas insertando saltos de línea\n",
    "labels_wrapped = [label.replace(\" \", \"\\n\").replace(\",\", \"\\n\") for label in num_cols]\n",
    "\n",
    "plt.xticks(ticks=range(len(labels_wrapped)), labels=labels_wrapped, rotation=0, ha='center')\n",
    "\n",
    "plt.tight_layout()\n",
    "plt.show()"
   ]
  },
  {
   "cell_type": "markdown",
   "id": "61aa324f",
   "metadata": {},
   "source": [
    "El gráfico de cajas muestra la distribución de varias variables numéricas del dataset y permite identificar la presencia de outliers. En la mayoría de las variables relacionadas con sectores como agricultura, pesca, minería, industria manufacturera, electricidad, construcción y servicios, las cajas y los bigotes son relativamente compactos, lo que indica una distribución controlada y poca dispersión extrema.\n",
    "\n",
    "Sin embargo, la variable \"orden\" presentaba una mayor dispersión y una caja más grande, sugiriendo que podría contener valores extremos o outliers que se alejan significativamente del resto de los datos. Lo cual se excluyo de la visualizacion y analisis.\n",
    "\n",
    "Para las otras variables, no se observan puntos fuera de los bigotes, lo que indica que no hay outliers evidentes o que estos son muy pocos y no se destacan claramente en el gráfico.\n",
    "Algunos sectores como Industria Manufacturera y Pesca tienen medianas y rangos más altos, indicando que suelen tener valores mayores.\n",
    "Otros sectores como Agricultura o Explotación de minas y canteras tienen medianas más bajas y rangos más cortos."
   ]
  },
  {
   "cell_type": "markdown",
   "id": "8ffdf96b",
   "metadata": {},
   "source": [
    "**Correlacion de variables**"
   ]
  },
  {
   "cell_type": "markdown",
   "id": "be154d55",
   "metadata": {},
   "source": [
    "Se muestra una matriz de correlación entre las variables numéricas del dataset, permitiendo visualizar qué tan relacionadas están entre sí. Los valores anotados indican la fuerza y dirección de la relación: valores cercanos a 1 o -1 muestran correlaciones fuertes positivas o negativas, respectivamente, mientras que valores cercanos a 0 indican poca o ninguna correlación.\n"
   ]
  },
  {
   "cell_type": "code",
   "execution_count": null,
   "id": "e05bca89",
   "metadata": {},
   "outputs": [],
   "source": [
    "# Correlacion entre variables\n",
    "plt.figure(figsize=(16, 10))\n",
    "sns.heatmap(df.corr(numeric_only=True), annot=True, cmap='coolwarm', fmt=\".2f\")\n",
    "plt.title(\"Matriz de correlación\")\n",
    "plt.xticks(ticks=range(len(labels_wrapped)), labels=labels_wrapped, rotation=0)\n",
    "plt.yticks(rotation=0)  # etiquetas verticales\n",
    "plt.tight_layout()\n",
    "plt.show()"
   ]
  },
  {
   "cell_type": "markdown",
   "id": "5a02d99e",
   "metadata": {},
   "source": [
    "En esta matriz se observa que algunas variables, como “Industria Manufacturera” y “Electricidad, gas y agua”, tienen una correlación positiva moderada (0.57), lo que indica que estas dos actividades tienden a aumentar o disminuir juntas. Por otro lado, “Industria Manufacturera” y “Servicios” muestran una correlación negativa fuerte (-0.73), lo que sugiere que cuando una variable aumenta, la otra tiende a disminuir.\n",
    "\n",
    "También destaca que “Explotación de minas y canteras” tiene una correlación positiva moderada con “Servicios” (0.43) y una correlación negativa con “Industria Manufacturera” (-0.52), lo que puede reflejar diferencias en la dinámica económica entre estos sectores."
   ]
  },
  {
   "cell_type": "markdown",
   "id": "8db72e7d",
   "metadata": {},
   "source": [
    "**Correlacion entre Gobierno local y codigo**\n",
    "Tabla de contingencia muestra cómo se distribuyen las observaciones según las categorías combinadas"
   ]
  },
  {
   "cell_type": "code",
   "execution_count": null,
   "id": "5170afc4",
   "metadata": {},
   "outputs": [],
   "source": [
    "from scipy.stats import chi2_contingency\n",
    "\n",
    "# Crear tabla de contingencia\n",
    "contingency_table = pd.crosstab(df['codigo'], df['gobierno_local'])\n",
    "\n",
    "print(\"Tabla de contingencia entre 'codigo' y 'gobierno_local':\")\n",
    "display(contingency_table)\n",
    "\n",
    "# Calcular Chi-cuadrado\n",
    "chi2, p, dof, ex = chi2_contingency(contingency_table)\n",
    "\n",
    "# Calcular coeficiente de Cramér\n",
    "n = contingency_table.sum().sum()\n",
    "cramer_v = np.sqrt(chi2 / (n * (min(contingency_table.shape)-1)))\n",
    "\n",
    "print(f\"\\nEstadístico Chi-cuadrado: {chi2:.4f}\")\n",
    "print(f\"Valor p: {p:.4f}\")\n",
    "print(f\"Grados de libertad: {dof}\")\n",
    "print(f\"Coeficiente de Cramér: {cramer_v:.4f}\")"
   ]
  },
  {
   "cell_type": "markdown",
   "id": "ced6568d",
   "metadata": {},
   "source": [
    "Existe una asociación estadísticamente significativa y muy fuerte entre las variables codigo y gobierno_local. Esto significa que cada código está asociado de manera casi exclusiva con un gobierno local específico, lo cual es coherente si los códigos representan sitios o unidades que pertenecen a un solo gobierno local."
   ]
  },
  {
   "cell_type": "markdown",
   "id": "7512785d",
   "metadata": {},
   "source": [
    "CONCLUSION"
   ]
  },
  {
   "cell_type": "markdown",
   "id": "194ce3f6",
   "metadata": {
    "lines_to_next_cell": 3
   },
   "source": [
    "El dataset contiene un total de 45 variables o features y 613 entradas o registros. Estas variables incluyen tanto datos numéricos como categóricos.\n",
    "\n",
    "En cuanto al tipo de datos, muchas columnas están clasificadas como objetos (object), lo que indica que son categóricas o texto. Sin embargo, algunas variables que deberían ser numéricas están almacenadas como texto, por lo que será necesario realizar conversiones para trabajar con datos cuantitativos continuos o discretos. También existen variables categóricas y posiblemente binarias dentro del conjunto.\n",
    "\n",
    "Se detectaron algunas filas duplicadas, aunque en cantidad limitada, y también valores repetidos dentro de columnas, lo cual es común en datos categóricos pero debe ser evaluado en variables numéricas para evitar redundancias.\n",
    "\n",
    "Respecto a los valores faltantes, varias columnas presentan datos incompletos, lo que implica que se deberá decidir cómo imputar esos valores o si es necesario eliminar registros o variables con muchos datos faltantes para mantener la calidad del análisis.\n",
    "\n",
    "El análisis de distribución mediante histogramas y boxplots reveló que algunas variables presentan outliers o valores atípicos, especialmente la variable “orden”, mientras que otras variables muestran distribuciones más compactas y homogéneas.\n",
    "\n",
    "La matriz de correlación indicó relaciones positivas y negativas entre ciertas variables, por ejemplo, una correlación positiva moderada entre “Industria Manufacturera” y “Electricidad, gas y agua”, y una correlación negativa fuerte entre “Industria Manufacturera” y “Servicios”. Estas relaciones ayudan a entender la interacción entre variables, identificar redundancias y seleccionar aquellas más relevantes para modelar o interpretar.\n",
    "\n",
    "Respecto a las unidades, es importante revisar y estandarizar aquellas variables numéricas que puedan estar expresadas en diferentes escalas o formatos, para evitar sesgos en el análisis o modelado."
   ]
  }
 ],
 "metadata": {
  "jupytext": {
   "cell_metadata_filter": "-all",
   "main_language": "python",
   "notebook_metadata_filter": "-all"
  }
 },
 "nbformat": 4,
 "nbformat_minor": 5
}
