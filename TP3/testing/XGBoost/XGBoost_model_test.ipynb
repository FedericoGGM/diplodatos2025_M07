{
 "cells": [
  {
   "cell_type": "code",
   "execution_count": 12,
   "id": "627b4b87",
   "metadata": {},
   "outputs": [],
   "source": [
    "import joblib\n",
    "import pandas as pd\n",
    "from sklearn.metrics import mean_squared_error, r2_score\n",
    "import numpy as np\n"
   ]
  },
  {
   "cell_type": "code",
   "execution_count": 13,
   "id": "1c7f560d",
   "metadata": {},
   "outputs": [],
   "source": [
    "# =====================\n",
    "# Cargar datasets\n",
    "# =====================\n",
    "\n",
    "# Dataset A\n",
    "y_A_test = pd.read_csv(\"../../A_sets/y_test_inicial.csv\")\n",
    "X_A_test_scaled = pd.read_csv(\"../../A_sets/x_A_test_norm.csv\")\n",
    "X_A_test_std = pd.read_csv(\"../../A_sets/x_A_test_std.csv\")\n",
    "\n",
    "# Dataset B\n",
    "y_B_test = pd.read_csv(\"../../B_sets/y_test_inicial.csv\")\n",
    "X_B_test_scaled = pd.read_csv(\"../../B_sets/x_B_test_norm.csv\")\n",
    "X_B_test_std = pd.read_csv(\"../../B_sets/x_B_test_std.csv\")"
   ]
  },
  {
   "cell_type": "code",
   "execution_count": null,
   "id": "bf66cd57",
   "metadata": {},
   "outputs": [
    {
     "name": "stdout",
     "output_type": "stream",
     "text": [
      "A_std -> MSE: 0.1137, RMSE: 0.3372, R2: 0.9992\n"
     ]
    }
   ],
   "source": [
    "# =====================\n",
    "# Función de evaluación\n",
    "# =====================\n",
    "def evaluar_modelo(model_path, X_test, y_test, nombre):\n",
    "    # Load model\n",
    "    model = joblib.load(model_path)\n",
    "    \n",
    "    # Make predictions\n",
    "    y_pred = model.predict(X_test)\n",
    "\n",
    "    # Metrics\n",
    "    mse = mean_squared_error(y_test, y_pred)\n",
    "    rmse = np.sqrt(mse)\n",
    "    r2 = r2_score(y_test, y_pred)\n",
    "\n",
    "    # Print results\n",
    "    print(f\"{nombre} -> MSE: {mse:.4f}, RMSE: {rmse:.4f}, R2: {r2:.4f}\")\n",
    "\n",
    "    # Return as dictionary\n",
    "    return {\n",
    "        \"dataset\": nombre,\n",
    "        \"MSE\": mse,\n",
    "        \"RMSE\": rmse,\n",
    "        \"R2\": r2\n",
    "    }\n",
    "\n",
    "# =====================\n",
    "# Evaluaciones\n",
    "# =====================\n",
    "resultados = []\n",
    "\n",
    "# Dataset A - std\n",
    "resultados.append(evaluar_modelo(\"./xgboost_final_A.joblib\",\n",
    "                                 X_A_test_std, y_A_test, \"A_std\"))"
   ]
  },
  {
   "cell_type": "code",
   "execution_count": 15,
   "id": "d186c13c",
   "metadata": {},
   "outputs": [
    {
     "name": "stdout",
     "output_type": "stream",
     "text": [
      "\n",
      "Resumen comparativo:\n",
      "  dataset       MSE      RMSE       R2\n",
      "0   A_std  0.113682  0.337168  0.99917\n"
     ]
    }
   ],
   "source": [
    "# =====================\n",
    "# Convertir a tabla\n",
    "# =====================\n",
    "import pandas as pd\n",
    "tabla_resultados = pd.DataFrame(resultados)\n",
    "print(\"\\nResumen comparativo:\")\n",
    "print(tabla_resultados)"
   ]
  }
 ],
 "metadata": {
  "kernelspec": {
   "display_name": "diplodatos_M07_G02",
   "language": "python",
   "name": "python3"
  },
  "language_info": {
   "codemirror_mode": {
    "name": "ipython",
    "version": 3
   },
   "file_extension": ".py",
   "mimetype": "text/x-python",
   "name": "python",
   "nbconvert_exporter": "python",
   "pygments_lexer": "ipython3",
   "version": "3.11.13"
  }
 },
 "nbformat": 4,
 "nbformat_minor": 5
}
