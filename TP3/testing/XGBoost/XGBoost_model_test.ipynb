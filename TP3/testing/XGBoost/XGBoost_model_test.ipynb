{
 "cells": [
  {
   "cell_type": "code",
   "execution_count": 9,
   "id": "627b4b87",
   "metadata": {},
   "outputs": [],
   "source": [
    "import joblib\n",
    "import pandas as pd\n",
    "from sklearn.metrics import mean_squared_error, r2_score"
   ]
  },
  {
   "cell_type": "code",
   "execution_count": 10,
   "id": "1c7f560d",
   "metadata": {},
   "outputs": [],
   "source": [
    "# =====================\n",
    "# Cargar datasets\n",
    "# =====================\n",
    "\n",
    "# Dataset A\n",
    "y_A_test = pd.read_csv(\"../../A_sets/y_test_inicial.csv\")\n",
    "X_A_test_scaled = pd.read_csv(\"../../A_sets/x_A_test_norm.csv\")\n",
    "X_A_test_std = pd.read_csv(\"../../A_sets/x_A_test_std.csv\")\n",
    "\n",
    "# Dataset B\n",
    "y_B_test = pd.read_csv(\"../../B_sets/y_test_inicial.csv\")\n",
    "X_B_test_scaled = pd.read_csv(\"../../B_sets/x_B_test_norm.csv\")\n",
    "X_B_test_std = pd.read_csv(\"../../B_sets/x_B_test_std.csv\")"
   ]
  },
  {
   "cell_type": "code",
   "execution_count": 11,
   "id": "bf66cd57",
   "metadata": {},
   "outputs": [
    {
     "name": "stdout",
     "output_type": "stream",
     "text": [
      "A_scaled -> MSE: 39.8670, R2: 0.7090\n",
      "A_std -> MSE: 39.8670, R2: 0.7090\n",
      "B_scaled -> MSE: 40.5601, R2: 0.7040\n",
      "B_std -> MSE: 40.5601, R2: 0.7040\n"
     ]
    }
   ],
   "source": [
    "# =====================\n",
    "# Función de evaluación\n",
    "# =====================\n",
    "def evaluar_modelo(model_path, X_test, y_test, nombre):\n",
    "    model = joblib.load(model_path)\n",
    "    y_pred = model.predict(X_test)\n",
    "\n",
    "    mse = mean_squared_error(y_test, y_pred)\n",
    "    r2 = r2_score(y_test, y_pred)\n",
    "\n",
    "    print(f\"{nombre} -> MSE: {mse:.4f}, R2: {r2:.4f}\")\n",
    "    return {\"dataset\": nombre, \"MSE\": mse, \"R2\": r2}\n",
    "\n",
    "# =====================\n",
    "# Evaluaciones\n",
    "# =====================\n",
    "resultados = []\n",
    "\n",
    "# Dataset A - scaled\n",
    "resultados.append(evaluar_modelo(\"../../models/XGBoost_A_scaled.joblib\",\n",
    "                                 X_A_test_scaled, y_A_test, \"A_scaled\"))\n",
    "\n",
    "# Dataset A - std\n",
    "resultados.append(evaluar_modelo(\"../../models/XGBoost_A_std.joblib\",\n",
    "                                 X_A_test_std, y_A_test, \"A_std\"))\n",
    "\n",
    "# Dataset B - scaled\n",
    "resultados.append(evaluar_modelo(\"../../models/XGBoost_B_scaled.joblib\",\n",
    "                                 X_B_test_scaled, y_B_test, \"B_scaled\"))\n",
    "\n",
    "# Dataset B - std\n",
    "resultados.append(evaluar_modelo(\"../../models/XGBoost_B_std.joblib\",\n",
    "                                 X_B_test_std, y_B_test, \"B_std\"))\n"
   ]
  },
  {
   "cell_type": "code",
   "execution_count": 12,
   "id": "d186c13c",
   "metadata": {},
   "outputs": [
    {
     "name": "stdout",
     "output_type": "stream",
     "text": [
      "\n",
      "Resumen comparativo:\n",
      "    dataset        MSE        R2\n",
      "0  A_scaled  39.866962  0.709039\n",
      "1     A_std  39.866962  0.709039\n",
      "2  B_scaled  40.560081  0.703980\n",
      "3     B_std  40.560081  0.703980\n"
     ]
    }
   ],
   "source": [
    "# =====================\n",
    "# Convertir a tabla\n",
    "# =====================\n",
    "import pandas as pd\n",
    "tabla_resultados = pd.DataFrame(resultados)\n",
    "print(\"\\nResumen comparativo:\")\n",
    "print(tabla_resultados)"
   ]
  }
 ],
 "metadata": {
  "kernelspec": {
   "display_name": "diplodatos_M07_G02",
   "language": "python",
   "name": "python3"
  },
  "language_info": {
   "codemirror_mode": {
    "name": "ipython",
    "version": 3
   },
   "file_extension": ".py",
   "mimetype": "text/x-python",
   "name": "python",
   "nbconvert_exporter": "python",
   "pygments_lexer": "ipython3",
   "version": "3.11.13"
  }
 },
 "nbformat": 4,
 "nbformat_minor": 5
}
