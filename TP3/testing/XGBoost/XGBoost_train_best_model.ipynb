{
 "cells": [
  {
   "cell_type": "code",
   "execution_count": 2,
   "id": "0110cf3c",
   "metadata": {},
   "outputs": [
    {
     "name": "stdout",
     "output_type": "stream",
     "text": [
      "Modelo final reentrenado y guardado como xgboost_final_A.joblib\n"
     ]
    }
   ],
   "source": [
    "from xgboost import XGBRegressor\n",
    "import joblib\n",
    "import pandas as pd\n",
    "\n",
    "# Supongamos que estos fueron los mejores parámetros encontrados\n",
    "best_params = {\n",
    "    \"n_estimators\": 100,\n",
    "    \"max_depth\": 7,\n",
    "    \"learning_rate\": 0.1,\n",
    "    \"subsample\": 0.8,\n",
    "    \"colsample_bytree\": 1.0,\n",
    "    \"reg_alpha\": 0.1,\n",
    "    \"reg_lambda\": 1\n",
    "}\n",
    "\n",
    "## Importamos los datasets A\n",
    "\n",
    "# Etiquetas\n",
    "y_A_train = pd.read_csv(\"../../A_sets/y_train_inicial.csv\").squeeze()\n",
    "y_A_test = pd.read_csv(\"../../A_sets/y_test_inicial.csv\").squeeze()\n",
    "# Datos estandarizados\n",
    "X_A_train_std = pd.read_csv(\"../../A_sets/x_A_train_std.csv\")\n",
    "X_A_test_std = pd.read_csv(\"../../A_sets/x_A_test_std.csv\")\n",
    "\n",
    "## Importamos los datasets B (por si los necesitás más adelante)\n",
    "y_B_train = pd.read_csv(\"../../B_sets/y_train_inicial.csv\").squeeze()\n",
    "y_B_test = pd.read_csv(\"../../B_sets/y_test_inicial.csv\").squeeze()\n",
    "X_B_train_std = pd.read_csv(\"../../B_sets/x_B_train_std.csv\")\n",
    "X_B_test_std = pd.read_csv(\"../../B_sets/x_B_test_std.csv\")\n",
    "\n",
    "## Defino diccionario para iterar sobre los datasets\n",
    "datasets_dict = {\n",
    "    \"A_std\": {\"x_train\": X_A_train_std, \"y_train\": y_A_train, \"x_test\": X_A_test_std, \"y_test\": y_A_test},\n",
    "    \"B_std\": {\"x_train\": X_B_train_std, \"y_train\": y_B_train, \"x_test\": X_B_test_std, \"y_test\": y_B_test},\n",
    "}\n",
    "\n",
    "# Dataset A estandarizado completo (train + test unidos)\n",
    "X_all = pd.concat([datasets_dict[\"A_std\"][\"x_train\"], datasets_dict[\"A_std\"][\"x_test\"]], ignore_index=True)\n",
    "y_all = pd.concat([datasets_dict[\"A_std\"][\"y_train\"], datasets_dict[\"A_std\"][\"y_test\"]], ignore_index=True)\n",
    "\n",
    "# Reentrenar el modelo final con todos los datos\n",
    "final_model = XGBRegressor(\n",
    "    objective=\"reg:squarederror\",\n",
    "    random_state=42,\n",
    "    n_jobs=4,  # usar varios cores para acelerar\n",
    "    verbosity=1,\n",
    "    **best_params\n",
    ")\n",
    "\n",
    "final_model.fit(X_all, y_all)\n",
    "\n",
    "# Guardar modelo final\n",
    "joblib.dump(final_model, \"xgboost_final_A.joblib\")\n",
    "\n",
    "print(\"Modelo final reentrenado y guardado como xgboost_final_A.joblib\")\n"
   ]
  }
 ],
 "metadata": {
  "kernelspec": {
   "display_name": "diplodatos_M07_G02",
   "language": "python",
   "name": "python3"
  },
  "language_info": {
   "codemirror_mode": {
    "name": "ipython",
    "version": 3
   },
   "file_extension": ".py",
   "mimetype": "text/x-python",
   "name": "python",
   "nbconvert_exporter": "python",
   "pygments_lexer": "ipython3",
   "version": "3.11.13"
  }
 },
 "nbformat": 4,
 "nbformat_minor": 5
}
