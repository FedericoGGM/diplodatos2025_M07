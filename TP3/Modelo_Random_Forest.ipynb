{
  "nbformat": 4,
  "nbformat_minor": 0,
  "metadata": {
    "colab": {
      "provenance": [],
      "toc_visible": true
    },
    "kernelspec": {
      "name": "python3",
      "display_name": "Python 3"
    },
    "language_info": {
      "name": "python"
    }
  },
  "cells": [
    {
      "cell_type": "markdown",
      "source": [
        "###Librerias"
      ],
      "metadata": {
        "id": "vQj5iDucUbRx"
      }
    },
    {
      "cell_type": "code",
      "execution_count": 23,
      "metadata": {
        "colab": {
          "base_uri": "https://localhost:8080/",
          "height": 17
        },
        "id": "ndWDYnW4UW7q",
        "outputId": "d36c4f4c-e282-4edd-a5ca-2d8c67326de2"
      },
      "outputs": [
        {
          "output_type": "display_data",
          "data": {
            "text/plain": [
              "<IPython.core.display.HTML object>"
            ],
            "text/html": [
              "\n",
              "            <style>\n",
              "                .geemap-dark {\n",
              "                    --jp-widgets-color: white;\n",
              "                    --jp-widgets-label-color: white;\n",
              "                    --jp-ui-font-color1: white;\n",
              "                    --jp-layout-color2: #454545;\n",
              "                    background-color: #383838;\n",
              "                }\n",
              "\n",
              "                .geemap-dark .jupyter-button {\n",
              "                    --jp-layout-color3: #383838;\n",
              "                }\n",
              "\n",
              "                .geemap-colab {\n",
              "                    background-color: var(--colab-primary-surface-color, white);\n",
              "                }\n",
              "\n",
              "                .geemap-colab .jupyter-button {\n",
              "                    --jp-layout-color3: var(--colab-primary-surface-color, white);\n",
              "                }\n",
              "            </style>\n",
              "            "
            ]
          },
          "metadata": {}
        }
      ],
      "source": [
        "import pandas as pd\n",
        "import geopandas as gpd\n",
        "import folium\n",
        "import shapely\n",
        "import ee\n",
        "import geemap\n",
        "import matplotlib.pyplot as plt\n",
        "import seaborn as sns\n",
        "import re\n",
        "import numpy as np\n",
        "import requests\n",
        "import requests, time\n",
        "import unicodedata\n",
        "import xgboost as xgb\n",
        "import os, gc, time, unicodedata, requests\n",
        "import xml.etree.ElementTree as ET\n",
        "import statsmodels.formula.api as smf\n",
        "import unicodedata, requests, pandas as pd, geopandas as gpd\n",
        "import geopandas as gpd\n",
        "import gradio as gr\n",
        "from sklearn.linear_model import LinearRegression\n",
        "from sklearn.model_selection import train_test_split\n",
        "from IPython.display import display, HTML\n",
        "from scipy.stats import ttest_ind, pearsonr\n",
        "from sklearn.metrics import mean_squared_error, r2_score\n",
        "from IPython.display import display, Markdown\n",
        "from folium.plugins import MarkerCluster, Search\n",
        "from urllib3.util import Retry\n",
        "from requests.adapters import HTTPAdapter\n",
        "from folium.plugins import Search\n",
        "from IPython.display import IFrame\n",
        "from shapely.geometry import Point\n",
        "from shapely.geometry import shape\n",
        "from branca.element import Element\n",
        "from shapely import voronoi_polygons\n",
        "from shapely.ops import unary_union\n",
        "import matplotlib.pyplot as plt\n",
        "import matplotlib.colors as mcolors\n",
        "from branca.colormap import LinearColormap\n",
        "from matplotlib.ticker import LogLocator, FuncFormatter\n",
        "from branca.element import Template, MacroElement\n",
        "from IPython.display import HTML, display\n",
        "from google.colab import files\n",
        "from matplotlib.ticker import MaxNLocator\n",
        "from matplotlib.patches import Patch\n",
        "from sklearn.metrics import r2_score, mean_squared_error, mean_absolute_error\n",
        "from sklearn.ensemble import RandomForestRegressor\n",
        "from matplotlib.patches import FancyBboxPatch, FancyArrowPatch\n",
        "from missingno import matrix\n"
      ]
    },
    {
      "cell_type": "markdown",
      "source": [
        "2.C.a.  *Modelo Random Forest*\n",
        "\n",
        "Está formado por múltiples árboles de decisión individuales. Cada uno de estos árboles es entrenado con una muestra ligeramente diferente de los datos de entrenamiento, generada mediante una técnica conocida como bootstrapping. Al realizar predicciones sobre nuevas observaciones, los resultados de todos los árboles se combinan en problemas de clasificación a través de votación mayoritaria, y en problemas de regresión mediante el promedio de las salidas.\n",
        "\n",
        "Tiene como ventaja:\n",
        "\n",
        "- La capaces de seleccionar predictores más relevantes de forma automática.\n",
        "- Pueden aplicarse a problemas de regresión y clasificación.\n",
        "- Los árboles pueden, manejar tanto predictores numéricos como categóricos sin tener que crear variables dummy o one-hot-encoding. En la práctica, esto depende de la implementación del algoritmo que tenga cada librería.\n",
        "- Es muy útil en la exploración de datos, permite identificar de forma rápida y eficiente las variables (predictores) más importantes.\n",
        "- Es adecuado para conjuntos de datos con un gran número de observaciones, demostrando una buena escalabilidad.\n",
        "\n",
        "Tiene como desventaja:\n",
        "\n",
        "- La combinación de múltiples árboles reduce la capacidad de interpretación en comparación con modelos basados en un solo árbol.\n",
        "- Al tratar con predictores continuos, se puede perder parte de la información al categorizarlos durante la división de los nodos.\n",
        "- La técnica de recursive binary splitting utilizada para crear las ramificaciones de los árboles puede favorecer a los predictores continuos o cualitativos con muchos niveles, ya que tienen una mayor probabilidad de contener un punto de corte óptimo por azar.\n",
        "\n",
        "En el caso de la clasificación, el modelo recibe el nombre de Random Forest Classifier y se emplea para predecir variables categóricas. La predicción final se obtiene mediante un mecanismo de votación mayoritaria entre todos los árboles del bosque.\n",
        "\n",
        "Por su parte, cuando se trabaja con variables continuas, se utiliza el Random Forest Regressor, orientado a resolver problemas de regresión. En este escenario, la predicción final corresponde al promedio de las salidas de todos los árboles, en lugar de una votación.\n",
        "\n",
        "Se eligio para prueba el modelo Random Forest Regressor en el cual se ensayaron diferentes valores del hiperparámetro n_estimators, correspondiente a la cantidad de árboles en el bosque. En particular, se evaluaron configuraciones con 100, 500 y 800 árboles, con el objetivo de analizar el impacto de este parámetro en el desempeño del modelo."
      ],
      "metadata": {
        "id": "p7pvEtCiVMPo"
      }
    },
    {
      "cell_type": "markdown",
      "source": [
        "### Dataset"
      ],
      "metadata": {
        "id": "YVGV8qj6YLFH"
      }
    },
    {
      "cell_type": "code",
      "source": [
        "# Bases\n",
        "base_url_A = \"https://raw.githubusercontent.com/FedericoGGM/diplodatos2025_M07/main/TP3/A_sets/\"\n",
        "base_url_B = \"https://raw.githubusercontent.com/FedericoGGM/diplodatos2025_M07/main/TP3/B_sets/\"\n",
        "\n",
        "# === Conjunto A ===\n",
        "y_A_train = pd.read_csv(base_url_A + \"y_train_inicial.csv\")\n",
        "y_A_test  = pd.read_csv(base_url_A + \"y_test_inicial.csv\")\n",
        "\n",
        "X_A_train_scaled = pd.read_csv(base_url_A + \"x_A_train_norm.csv\")\n",
        "X_A_test_scaled  = pd.read_csv(base_url_A + \"x_A_test_norm.csv\")\n",
        "\n",
        "X_A_train_std = pd.read_csv(base_url_A + \"x_A_train_std.csv\")\n",
        "X_A_test_std  = pd.read_csv(base_url_A + \"x_A_test_std.csv\")\n",
        "\n",
        "# === Conjunto B ===\n",
        "y_B_train = pd.read_csv(base_url_B + \"y_train_inicial.csv\")\n",
        "y_B_test  = pd.read_csv(base_url_B + \"y_test_inicial.csv\")\n",
        "\n",
        "X_B_train_scaled = pd.read_csv(base_url_B + \"x_B_train_norm.csv\")\n",
        "X_B_test_scaled  = pd.read_csv(base_url_B + \"x_B_test_norm.csv\")\n",
        "\n",
        "X_B_train_std = pd.read_csv(base_url_B + \"x_B_train_std.csv\")\n",
        "X_B_test_std  = pd.read_csv(base_url_B + \"x_B_test_std.csv\")\n",
        "\n",
        "print(\"Conjuntos A y B cargados correctamente\")\n"
      ],
      "metadata": {
        "colab": {
          "base_uri": "https://localhost:8080/",
          "height": 35
        },
        "id": "h9oMc1s9d8fP",
        "outputId": "04317649-aeb5-4c0f-c91a-8c9a7e13ff99"
      },
      "execution_count": 9,
      "outputs": [
        {
          "output_type": "display_data",
          "data": {
            "text/plain": [
              "<IPython.core.display.HTML object>"
            ],
            "text/html": [
              "\n",
              "            <style>\n",
              "                .geemap-dark {\n",
              "                    --jp-widgets-color: white;\n",
              "                    --jp-widgets-label-color: white;\n",
              "                    --jp-ui-font-color1: white;\n",
              "                    --jp-layout-color2: #454545;\n",
              "                    background-color: #383838;\n",
              "                }\n",
              "\n",
              "                .geemap-dark .jupyter-button {\n",
              "                    --jp-layout-color3: #383838;\n",
              "                }\n",
              "\n",
              "                .geemap-colab {\n",
              "                    background-color: var(--colab-primary-surface-color, white);\n",
              "                }\n",
              "\n",
              "                .geemap-colab .jupyter-button {\n",
              "                    --jp-layout-color3: var(--colab-primary-surface-color, white);\n",
              "                }\n",
              "            </style>\n",
              "            "
            ]
          },
          "metadata": {}
        },
        {
          "output_type": "stream",
          "name": "stdout",
          "text": [
            "Conjuntos A y B cargados correctamente\n"
          ]
        }
      ]
    },
    {
      "cell_type": "code",
      "source": [
        "# Diccionario de datasets\n",
        "datasets_dict = {\n",
        "    'A_scaled' : {'x_train':X_A_train_scaled, 'y_train':y_A_train, 'x_test':X_A_test_scaled, 'y_test':y_A_test},\n",
        "    'A_std'    : {'x_train':X_A_train_std,    'y_train':y_A_train, 'x_test':X_A_test_std,    'y_test':y_A_test},\n",
        "    'B_scaled' : {'x_train':X_B_train_scaled, 'y_train':y_B_train, 'x_test':X_B_test_scaled, 'y_test':y_B_test},\n",
        "    'B_std'    : {'x_train':X_B_train_std,    'y_train':y_B_train, 'x_test':X_B_test_std,    'y_test':y_B_test},\n",
        "}"
      ],
      "metadata": {
        "colab": {
          "base_uri": "https://localhost:8080/",
          "height": 17
        },
        "id": "pl2LtGc7fVAQ",
        "outputId": "a9bb4f33-58af-4191-acb3-37d984eafcf2"
      },
      "execution_count": 15,
      "outputs": [
        {
          "output_type": "display_data",
          "data": {
            "text/plain": [
              "<IPython.core.display.HTML object>"
            ],
            "text/html": [
              "\n",
              "            <style>\n",
              "                .geemap-dark {\n",
              "                    --jp-widgets-color: white;\n",
              "                    --jp-widgets-label-color: white;\n",
              "                    --jp-ui-font-color1: white;\n",
              "                    --jp-layout-color2: #454545;\n",
              "                    background-color: #383838;\n",
              "                }\n",
              "\n",
              "                .geemap-dark .jupyter-button {\n",
              "                    --jp-layout-color3: #383838;\n",
              "                }\n",
              "\n",
              "                .geemap-colab {\n",
              "                    background-color: var(--colab-primary-surface-color, white);\n",
              "                }\n",
              "\n",
              "                .geemap-colab .jupyter-button {\n",
              "                    --jp-layout-color3: var(--colab-primary-surface-color, white);\n",
              "                }\n",
              "            </style>\n",
              "            "
            ]
          },
          "metadata": {}
        }
      ]
    },
    {
      "cell_type": "markdown",
      "source": [
        "## Modelo Random Forest Regressor"
      ],
      "metadata": {
        "id": "J6AZf70vgh3P"
      }
    },
    {
      "cell_type": "markdown",
      "source": [
        "### Numero de arboles 100"
      ],
      "metadata": {
        "id": "GF9lUxC-iRVw"
      }
    },
    {
      "cell_type": "code",
      "source": [
        "# Iteracion sobre cada dataset\n",
        "for nombre, data in datasets_dict.items():\n",
        "    print(f\"\\n Resultados para {nombre}\")\n",
        "\n",
        "    # Extraer datos\n",
        "    X_train, y_train = data['x_train'], data['y_train']\n",
        "    X_test, y_test   = data['x_test'], data['y_test']\n",
        "\n",
        "    # Entrenar modelo Random Forest Regressor\n",
        "    modelo = RandomForestRegressor(\n",
        "        n_estimators=100,   # número de árboles\n",
        "        random_state=42,\n",
        "        n_jobs=-1\n",
        "    )\n",
        "    modelo.fit(X_train, y_train.values.ravel())\n",
        "\n",
        "    # Predicciones\n",
        "    y_pred = modelo.predict(X_test)\n",
        "\n",
        "    # Métricas\n",
        "    mse = mean_squared_error(y_test, y_pred)\n",
        "    rmse = np.sqrt(mse)\n",
        "    errores_abs = np.abs(y_test.values.ravel() - y_pred)\n",
        "    min_error = errores_abs.min()\n",
        "    max_error = errores_abs.max()\n",
        "\n",
        "    print(f\"MSE:  {mse:.3f}\")\n",
        "    print(f\"RMSE: {rmse:.3f}\")\n",
        "    print(f\"MIN error: {min_error:.3f}\")\n",
        "    print(f\"MAX error: {max_error:.3f}\")"
      ],
      "metadata": {
        "colab": {
          "base_uri": "https://localhost:8080/",
          "height": 460
        },
        "id": "klpDBadUhyvH",
        "outputId": "82ca0452-389c-4bf8-a17d-f52ced839b64"
      },
      "execution_count": 25,
      "outputs": [
        {
          "output_type": "display_data",
          "data": {
            "text/plain": [
              "<IPython.core.display.HTML object>"
            ],
            "text/html": [
              "\n",
              "            <style>\n",
              "                .geemap-dark {\n",
              "                    --jp-widgets-color: white;\n",
              "                    --jp-widgets-label-color: white;\n",
              "                    --jp-ui-font-color1: white;\n",
              "                    --jp-layout-color2: #454545;\n",
              "                    background-color: #383838;\n",
              "                }\n",
              "\n",
              "                .geemap-dark .jupyter-button {\n",
              "                    --jp-layout-color3: #383838;\n",
              "                }\n",
              "\n",
              "                .geemap-colab {\n",
              "                    background-color: var(--colab-primary-surface-color, white);\n",
              "                }\n",
              "\n",
              "                .geemap-colab .jupyter-button {\n",
              "                    --jp-layout-color3: var(--colab-primary-surface-color, white);\n",
              "                }\n",
              "            </style>\n",
              "            "
            ]
          },
          "metadata": {}
        },
        {
          "output_type": "stream",
          "name": "stdout",
          "text": [
            "\n",
            " Resultados para A_scaled\n",
            "MSE:  49.617\n",
            "RMSE: 7.044\n",
            "MIN error: 0.010\n",
            "MAX error: 30.950\n",
            "\n",
            " Resultados para A_std\n",
            "MSE:  49.461\n",
            "RMSE: 7.033\n",
            "MIN error: 0.020\n",
            "MAX error: 30.240\n",
            "\n",
            " Resultados para B_scaled\n",
            "MSE:  50.019\n",
            "RMSE: 7.072\n",
            "MIN error: 0.020\n",
            "MAX error: 31.410\n",
            "\n",
            " Resultados para B_std\n",
            "MSE:  49.898\n",
            "RMSE: 7.064\n",
            "MIN error: 0.040\n",
            "MAX error: 31.130\n"
          ]
        }
      ]
    },
    {
      "cell_type": "markdown",
      "source": [
        "### Numero de arboles 500"
      ],
      "metadata": {
        "id": "n2qaxIUwiUOY"
      }
    },
    {
      "cell_type": "code",
      "source": [
        "# Iteracion sobre cada dataset\n",
        "for nombre, data in datasets_dict.items():\n",
        "    print(f\"\\n Resultados para {nombre}\")\n",
        "\n",
        "    # Extraer datos\n",
        "    X_train, y_train = data['x_train'], data['y_train']\n",
        "    X_test, y_test   = data['x_test'], data['y_test']\n",
        "\n",
        "    # Entrenar modelo Random Forest Regressor\n",
        "    modelo = RandomForestRegressor(\n",
        "        n_estimators=500,   # número de árboles\n",
        "        random_state=42,\n",
        "        n_jobs=-1\n",
        "    )\n",
        "    modelo.fit(X_train, y_train.values.ravel())\n",
        "\n",
        "    # Predicciones\n",
        "    y_pred = modelo.predict(X_test)\n",
        "\n",
        "    # Métricas\n",
        "    mse = mean_squared_error(y_test, y_pred)\n",
        "    rmse = np.sqrt(mse)\n",
        "    errores_abs = np.abs(y_test.values.ravel() - y_pred)\n",
        "    min_error = errores_abs.min()\n",
        "    max_error = errores_abs.max()\n",
        "\n",
        "    print(f\"MSE:  {mse:.3f}\")\n",
        "    print(f\"RMSE: {rmse:.3f}\")\n",
        "    print(f\"MIN error: {min_error:.3f}\")\n",
        "    print(f\"MAX error: {max_error:.3f}\")"
      ],
      "metadata": {
        "colab": {
          "base_uri": "https://localhost:8080/",
          "height": 460
        },
        "id": "xl_xcTFGiXz_",
        "outputId": "15871a37-7569-4f12-8849-2146539747f6"
      },
      "execution_count": 26,
      "outputs": [
        {
          "output_type": "display_data",
          "data": {
            "text/plain": [
              "<IPython.core.display.HTML object>"
            ],
            "text/html": [
              "\n",
              "            <style>\n",
              "                .geemap-dark {\n",
              "                    --jp-widgets-color: white;\n",
              "                    --jp-widgets-label-color: white;\n",
              "                    --jp-ui-font-color1: white;\n",
              "                    --jp-layout-color2: #454545;\n",
              "                    background-color: #383838;\n",
              "                }\n",
              "\n",
              "                .geemap-dark .jupyter-button {\n",
              "                    --jp-layout-color3: #383838;\n",
              "                }\n",
              "\n",
              "                .geemap-colab {\n",
              "                    background-color: var(--colab-primary-surface-color, white);\n",
              "                }\n",
              "\n",
              "                .geemap-colab .jupyter-button {\n",
              "                    --jp-layout-color3: var(--colab-primary-surface-color, white);\n",
              "                }\n",
              "            </style>\n",
              "            "
            ]
          },
          "metadata": {}
        },
        {
          "output_type": "stream",
          "name": "stdout",
          "text": [
            "\n",
            " Resultados para A_scaled\n",
            "MSE:  48.794\n",
            "RMSE: 6.985\n",
            "MIN error: 0.112\n",
            "MAX error: 30.184\n",
            "\n",
            " Resultados para A_std\n",
            "MSE:  49.001\n",
            "RMSE: 7.000\n",
            "MIN error: 0.092\n",
            "MAX error: 30.042\n",
            "\n",
            " Resultados para B_scaled\n",
            "MSE:  48.652\n",
            "RMSE: 6.975\n",
            "MIN error: 0.090\n",
            "MAX error: 30.060\n",
            "\n",
            " Resultados para B_std\n",
            "MSE:  48.461\n",
            "RMSE: 6.961\n",
            "MIN error: 0.098\n",
            "MAX error: 30.000\n"
          ]
        }
      ]
    },
    {
      "cell_type": "markdown",
      "source": [
        "### Numero de arboles 800"
      ],
      "metadata": {
        "id": "wS39XIbFpNXX"
      }
    },
    {
      "cell_type": "code",
      "source": [
        "# Iteracion sobre cada dataset\n",
        "for nombre, data in datasets_dict.items():\n",
        "    print(f\"\\n Resultados para {nombre}\")\n",
        "\n",
        "    # Extraer datos\n",
        "    X_train, y_train = data['x_train'], data['y_train']\n",
        "    X_test, y_test   = data['x_test'], data['y_test']\n",
        "\n",
        "    # Entrenar modelo Random Forest Regressor\n",
        "    modelo = RandomForestRegressor(\n",
        "        n_estimators=800,   # número de árboles\n",
        "        random_state=42,\n",
        "        n_jobs=-1\n",
        "    )\n",
        "    modelo.fit(X_train, y_train.values.ravel())\n",
        "\n",
        "    # Predicciones\n",
        "    y_pred = modelo.predict(X_test)\n",
        "\n",
        "    # Métricas\n",
        "    mse = mean_squared_error(y_test, y_pred)\n",
        "    rmse = np.sqrt(mse)\n",
        "    errores_abs = np.abs(y_test.values.ravel() - y_pred)\n",
        "    min_error = errores_abs.min()\n",
        "    max_error = errores_abs.max()\n",
        "\n",
        "    print(f\"MSE:  {mse:.3f}\")\n",
        "    print(f\"RMSE: {rmse:.3f}\")\n",
        "    print(f\"MIN error: {min_error:.3f}\")\n",
        "    print(f\"MAX error: {max_error:.3f}\")"
      ],
      "metadata": {
        "colab": {
          "base_uri": "https://localhost:8080/",
          "height": 460
        },
        "id": "SGrKizrgpSZ_",
        "outputId": "a81f97ac-bb66-4b8a-cb4a-2da94a7419c3"
      },
      "execution_count": 36,
      "outputs": [
        {
          "output_type": "display_data",
          "data": {
            "text/plain": [
              "<IPython.core.display.HTML object>"
            ],
            "text/html": [
              "\n",
              "            <style>\n",
              "                .geemap-dark {\n",
              "                    --jp-widgets-color: white;\n",
              "                    --jp-widgets-label-color: white;\n",
              "                    --jp-ui-font-color1: white;\n",
              "                    --jp-layout-color2: #454545;\n",
              "                    background-color: #383838;\n",
              "                }\n",
              "\n",
              "                .geemap-dark .jupyter-button {\n",
              "                    --jp-layout-color3: #383838;\n",
              "                }\n",
              "\n",
              "                .geemap-colab {\n",
              "                    background-color: var(--colab-primary-surface-color, white);\n",
              "                }\n",
              "\n",
              "                .geemap-colab .jupyter-button {\n",
              "                    --jp-layout-color3: var(--colab-primary-surface-color, white);\n",
              "                }\n",
              "            </style>\n",
              "            "
            ]
          },
          "metadata": {}
        },
        {
          "output_type": "stream",
          "name": "stdout",
          "text": [
            "\n",
            " Resultados para A_scaled\n",
            "MSE:  48.671\n",
            "RMSE: 6.976\n",
            "MIN error: 0.153\n",
            "MAX error: 30.489\n",
            "\n",
            " Resultados para A_std\n",
            "MSE:  48.863\n",
            "RMSE: 6.990\n",
            "MIN error: 0.121\n",
            "MAX error: 30.351\n",
            "\n",
            " Resultados para B_scaled\n",
            "MSE:  48.605\n",
            "RMSE: 6.972\n",
            "MIN error: 0.006\n",
            "MAX error: 30.135\n",
            "\n",
            " Resultados para B_std\n",
            "MSE:  48.411\n",
            "RMSE: 6.958\n",
            "MIN error: 0.016\n",
            "MAX error: 30.068\n"
          ]
        }
      ]
    },
    {
      "cell_type": "markdown",
      "source": [
        "### Tabla de comparacion de cantidad de arboles"
      ],
      "metadata": {
        "id": "eIMsI6Hnkv4Q"
      }
    },
    {
      "cell_type": "code",
      "source": [
        "resultados = []\n",
        "\n",
        "# Dos configuraciones de n_estimators\n",
        "for n_trees in [100, 500, 800]:\n",
        "    for nombre, data in datasets_dict.items():\n",
        "        # Extraer datos\n",
        "        X_train, y_train = data['x_train'], data['y_train']\n",
        "        X_test, y_test   = data['x_test'], data['y_test']\n",
        "\n",
        "        # Entrenar modelo Random Forest Regressor\n",
        "        modelo = RandomForestRegressor(\n",
        "            n_estimators=n_trees,\n",
        "            random_state=42,\n",
        "            n_jobs=-1\n",
        "        )\n",
        "        modelo.fit(X_train, y_train.values.ravel())\n",
        "\n",
        "        # Predicciones\n",
        "        y_pred = modelo.predict(X_test)\n",
        "\n",
        "        # Métricas\n",
        "        mse = mean_squared_error(y_test, y_pred)\n",
        "        rmse = np.sqrt(mse)\n",
        "        errores_abs = np.abs(y_test.values.ravel() - y_pred)\n",
        "        min_error = errores_abs.min()\n",
        "        max_error = errores_abs.max()\n",
        "\n",
        "        # Guardar resultados en la lista\n",
        "        resultados.append({\n",
        "            \"Dataset\": nombre,\n",
        "            \"Árboles\": n_trees,\n",
        "            \"MSE\": round(mse, 3),\n",
        "            \"RMSE\": round(rmse, 3),\n",
        "            \"MIN error\": round(min_error, 3),\n",
        "            \"MAX error\": round(max_error, 3)\n",
        "        })\n",
        "# Encontrar la fila con el menor RMSE\n",
        "min_rmse_idx = df_resultados[\"RMSE\"].idxmin()\n",
        "\n",
        "# Función para aplicar estilo\n",
        "def highlight_best(s):\n",
        "    return ['color: darkgreen; font-weight: bold' if s.name == min_rmse_idx else '' for _ in s]\n",
        "\n",
        "# Convertir a DataFrame\n",
        "df_resultados = pd.DataFrame(resultados)\n",
        "\n",
        "# Mostrar tabla con estilo\n",
        "print(\" Resultados comparativos Random Forest\")\n",
        "display(df_resultados.style.apply(highlight_best, axis=1))"
      ],
      "metadata": {
        "colab": {
          "base_uri": "https://localhost:8080/",
          "height": 444
        },
        "id": "9PzloxYGkx34",
        "outputId": "6f58c818-d6e7-4c8b-bcb5-41f895ec854e"
      },
      "execution_count": 48,
      "outputs": [
        {
          "output_type": "display_data",
          "data": {
            "text/plain": [
              "<IPython.core.display.HTML object>"
            ],
            "text/html": [
              "\n",
              "            <style>\n",
              "                .geemap-dark {\n",
              "                    --jp-widgets-color: white;\n",
              "                    --jp-widgets-label-color: white;\n",
              "                    --jp-ui-font-color1: white;\n",
              "                    --jp-layout-color2: #454545;\n",
              "                    background-color: #383838;\n",
              "                }\n",
              "\n",
              "                .geemap-dark .jupyter-button {\n",
              "                    --jp-layout-color3: #383838;\n",
              "                }\n",
              "\n",
              "                .geemap-colab {\n",
              "                    background-color: var(--colab-primary-surface-color, white);\n",
              "                }\n",
              "\n",
              "                .geemap-colab .jupyter-button {\n",
              "                    --jp-layout-color3: var(--colab-primary-surface-color, white);\n",
              "                }\n",
              "            </style>\n",
              "            "
            ]
          },
          "metadata": {}
        },
        {
          "output_type": "stream",
          "name": "stdout",
          "text": [
            " Resultados comparativos Random Forest\n"
          ]
        },
        {
          "output_type": "display_data",
          "data": {
            "text/plain": [
              "<pandas.io.formats.style.Styler at 0x7d0ed77e4290>"
            ],
            "text/html": [
              "<style type=\"text/css\">\n",
              "#T_6227a_row11_col0, #T_6227a_row11_col1, #T_6227a_row11_col2, #T_6227a_row11_col3, #T_6227a_row11_col4, #T_6227a_row11_col5 {\n",
              "  color: darkgreen;\n",
              "  font-weight: bold;\n",
              "}\n",
              "</style>\n",
              "<table id=\"T_6227a\" class=\"dataframe\">\n",
              "  <thead>\n",
              "    <tr>\n",
              "      <th class=\"blank level0\" >&nbsp;</th>\n",
              "      <th id=\"T_6227a_level0_col0\" class=\"col_heading level0 col0\" >Dataset</th>\n",
              "      <th id=\"T_6227a_level0_col1\" class=\"col_heading level0 col1\" >Árboles</th>\n",
              "      <th id=\"T_6227a_level0_col2\" class=\"col_heading level0 col2\" >MSE</th>\n",
              "      <th id=\"T_6227a_level0_col3\" class=\"col_heading level0 col3\" >RMSE</th>\n",
              "      <th id=\"T_6227a_level0_col4\" class=\"col_heading level0 col4\" >MIN error</th>\n",
              "      <th id=\"T_6227a_level0_col5\" class=\"col_heading level0 col5\" >MAX error</th>\n",
              "    </tr>\n",
              "  </thead>\n",
              "  <tbody>\n",
              "    <tr>\n",
              "      <th id=\"T_6227a_level0_row0\" class=\"row_heading level0 row0\" >0</th>\n",
              "      <td id=\"T_6227a_row0_col0\" class=\"data row0 col0\" >A_scaled</td>\n",
              "      <td id=\"T_6227a_row0_col1\" class=\"data row0 col1\" >100</td>\n",
              "      <td id=\"T_6227a_row0_col2\" class=\"data row0 col2\" >49.617000</td>\n",
              "      <td id=\"T_6227a_row0_col3\" class=\"data row0 col3\" >7.044000</td>\n",
              "      <td id=\"T_6227a_row0_col4\" class=\"data row0 col4\" >0.010000</td>\n",
              "      <td id=\"T_6227a_row0_col5\" class=\"data row0 col5\" >30.950000</td>\n",
              "    </tr>\n",
              "    <tr>\n",
              "      <th id=\"T_6227a_level0_row1\" class=\"row_heading level0 row1\" >1</th>\n",
              "      <td id=\"T_6227a_row1_col0\" class=\"data row1 col0\" >A_std</td>\n",
              "      <td id=\"T_6227a_row1_col1\" class=\"data row1 col1\" >100</td>\n",
              "      <td id=\"T_6227a_row1_col2\" class=\"data row1 col2\" >49.461000</td>\n",
              "      <td id=\"T_6227a_row1_col3\" class=\"data row1 col3\" >7.033000</td>\n",
              "      <td id=\"T_6227a_row1_col4\" class=\"data row1 col4\" >0.020000</td>\n",
              "      <td id=\"T_6227a_row1_col5\" class=\"data row1 col5\" >30.240000</td>\n",
              "    </tr>\n",
              "    <tr>\n",
              "      <th id=\"T_6227a_level0_row2\" class=\"row_heading level0 row2\" >2</th>\n",
              "      <td id=\"T_6227a_row2_col0\" class=\"data row2 col0\" >B_scaled</td>\n",
              "      <td id=\"T_6227a_row2_col1\" class=\"data row2 col1\" >100</td>\n",
              "      <td id=\"T_6227a_row2_col2\" class=\"data row2 col2\" >50.019000</td>\n",
              "      <td id=\"T_6227a_row2_col3\" class=\"data row2 col3\" >7.072000</td>\n",
              "      <td id=\"T_6227a_row2_col4\" class=\"data row2 col4\" >0.020000</td>\n",
              "      <td id=\"T_6227a_row2_col5\" class=\"data row2 col5\" >31.410000</td>\n",
              "    </tr>\n",
              "    <tr>\n",
              "      <th id=\"T_6227a_level0_row3\" class=\"row_heading level0 row3\" >3</th>\n",
              "      <td id=\"T_6227a_row3_col0\" class=\"data row3 col0\" >B_std</td>\n",
              "      <td id=\"T_6227a_row3_col1\" class=\"data row3 col1\" >100</td>\n",
              "      <td id=\"T_6227a_row3_col2\" class=\"data row3 col2\" >49.898000</td>\n",
              "      <td id=\"T_6227a_row3_col3\" class=\"data row3 col3\" >7.064000</td>\n",
              "      <td id=\"T_6227a_row3_col4\" class=\"data row3 col4\" >0.040000</td>\n",
              "      <td id=\"T_6227a_row3_col5\" class=\"data row3 col5\" >31.130000</td>\n",
              "    </tr>\n",
              "    <tr>\n",
              "      <th id=\"T_6227a_level0_row4\" class=\"row_heading level0 row4\" >4</th>\n",
              "      <td id=\"T_6227a_row4_col0\" class=\"data row4 col0\" >A_scaled</td>\n",
              "      <td id=\"T_6227a_row4_col1\" class=\"data row4 col1\" >500</td>\n",
              "      <td id=\"T_6227a_row4_col2\" class=\"data row4 col2\" >48.794000</td>\n",
              "      <td id=\"T_6227a_row4_col3\" class=\"data row4 col3\" >6.985000</td>\n",
              "      <td id=\"T_6227a_row4_col4\" class=\"data row4 col4\" >0.112000</td>\n",
              "      <td id=\"T_6227a_row4_col5\" class=\"data row4 col5\" >30.184000</td>\n",
              "    </tr>\n",
              "    <tr>\n",
              "      <th id=\"T_6227a_level0_row5\" class=\"row_heading level0 row5\" >5</th>\n",
              "      <td id=\"T_6227a_row5_col0\" class=\"data row5 col0\" >A_std</td>\n",
              "      <td id=\"T_6227a_row5_col1\" class=\"data row5 col1\" >500</td>\n",
              "      <td id=\"T_6227a_row5_col2\" class=\"data row5 col2\" >49.001000</td>\n",
              "      <td id=\"T_6227a_row5_col3\" class=\"data row5 col3\" >7.000000</td>\n",
              "      <td id=\"T_6227a_row5_col4\" class=\"data row5 col4\" >0.092000</td>\n",
              "      <td id=\"T_6227a_row5_col5\" class=\"data row5 col5\" >30.042000</td>\n",
              "    </tr>\n",
              "    <tr>\n",
              "      <th id=\"T_6227a_level0_row6\" class=\"row_heading level0 row6\" >6</th>\n",
              "      <td id=\"T_6227a_row6_col0\" class=\"data row6 col0\" >B_scaled</td>\n",
              "      <td id=\"T_6227a_row6_col1\" class=\"data row6 col1\" >500</td>\n",
              "      <td id=\"T_6227a_row6_col2\" class=\"data row6 col2\" >48.652000</td>\n",
              "      <td id=\"T_6227a_row6_col3\" class=\"data row6 col3\" >6.975000</td>\n",
              "      <td id=\"T_6227a_row6_col4\" class=\"data row6 col4\" >0.090000</td>\n",
              "      <td id=\"T_6227a_row6_col5\" class=\"data row6 col5\" >30.060000</td>\n",
              "    </tr>\n",
              "    <tr>\n",
              "      <th id=\"T_6227a_level0_row7\" class=\"row_heading level0 row7\" >7</th>\n",
              "      <td id=\"T_6227a_row7_col0\" class=\"data row7 col0\" >B_std</td>\n",
              "      <td id=\"T_6227a_row7_col1\" class=\"data row7 col1\" >500</td>\n",
              "      <td id=\"T_6227a_row7_col2\" class=\"data row7 col2\" >48.461000</td>\n",
              "      <td id=\"T_6227a_row7_col3\" class=\"data row7 col3\" >6.961000</td>\n",
              "      <td id=\"T_6227a_row7_col4\" class=\"data row7 col4\" >0.098000</td>\n",
              "      <td id=\"T_6227a_row7_col5\" class=\"data row7 col5\" >30.000000</td>\n",
              "    </tr>\n",
              "    <tr>\n",
              "      <th id=\"T_6227a_level0_row8\" class=\"row_heading level0 row8\" >8</th>\n",
              "      <td id=\"T_6227a_row8_col0\" class=\"data row8 col0\" >A_scaled</td>\n",
              "      <td id=\"T_6227a_row8_col1\" class=\"data row8 col1\" >800</td>\n",
              "      <td id=\"T_6227a_row8_col2\" class=\"data row8 col2\" >48.671000</td>\n",
              "      <td id=\"T_6227a_row8_col3\" class=\"data row8 col3\" >6.976000</td>\n",
              "      <td id=\"T_6227a_row8_col4\" class=\"data row8 col4\" >0.153000</td>\n",
              "      <td id=\"T_6227a_row8_col5\" class=\"data row8 col5\" >30.489000</td>\n",
              "    </tr>\n",
              "    <tr>\n",
              "      <th id=\"T_6227a_level0_row9\" class=\"row_heading level0 row9\" >9</th>\n",
              "      <td id=\"T_6227a_row9_col0\" class=\"data row9 col0\" >A_std</td>\n",
              "      <td id=\"T_6227a_row9_col1\" class=\"data row9 col1\" >800</td>\n",
              "      <td id=\"T_6227a_row9_col2\" class=\"data row9 col2\" >48.863000</td>\n",
              "      <td id=\"T_6227a_row9_col3\" class=\"data row9 col3\" >6.990000</td>\n",
              "      <td id=\"T_6227a_row9_col4\" class=\"data row9 col4\" >0.121000</td>\n",
              "      <td id=\"T_6227a_row9_col5\" class=\"data row9 col5\" >30.351000</td>\n",
              "    </tr>\n",
              "    <tr>\n",
              "      <th id=\"T_6227a_level0_row10\" class=\"row_heading level0 row10\" >10</th>\n",
              "      <td id=\"T_6227a_row10_col0\" class=\"data row10 col0\" >B_scaled</td>\n",
              "      <td id=\"T_6227a_row10_col1\" class=\"data row10 col1\" >800</td>\n",
              "      <td id=\"T_6227a_row10_col2\" class=\"data row10 col2\" >48.605000</td>\n",
              "      <td id=\"T_6227a_row10_col3\" class=\"data row10 col3\" >6.972000</td>\n",
              "      <td id=\"T_6227a_row10_col4\" class=\"data row10 col4\" >0.006000</td>\n",
              "      <td id=\"T_6227a_row10_col5\" class=\"data row10 col5\" >30.135000</td>\n",
              "    </tr>\n",
              "    <tr>\n",
              "      <th id=\"T_6227a_level0_row11\" class=\"row_heading level0 row11\" >11</th>\n",
              "      <td id=\"T_6227a_row11_col0\" class=\"data row11 col0\" >B_std</td>\n",
              "      <td id=\"T_6227a_row11_col1\" class=\"data row11 col1\" >800</td>\n",
              "      <td id=\"T_6227a_row11_col2\" class=\"data row11 col2\" >48.411000</td>\n",
              "      <td id=\"T_6227a_row11_col3\" class=\"data row11 col3\" >6.958000</td>\n",
              "      <td id=\"T_6227a_row11_col4\" class=\"data row11 col4\" >0.016000</td>\n",
              "      <td id=\"T_6227a_row11_col5\" class=\"data row11 col5\" >30.068000</td>\n",
              "    </tr>\n",
              "  </tbody>\n",
              "</table>\n"
            ]
          },
          "metadata": {}
        }
      ]
    },
    {
      "cell_type": "markdown",
      "source": [
        "La fila con el menor RMSE (mejor modelo) se marca en color verde oscuro."
      ],
      "metadata": {
        "id": "4xdsrlxUwxr2"
      }
    },
    {
      "cell_type": "markdown",
      "source": [
        "### Grafico con las comparaciones"
      ],
      "metadata": {
        "id": "T0XfhML6mu_v"
      }
    },
    {
      "cell_type": "code",
      "source": [
        "plt.figure(figsize=(8,5))\n",
        "sns.barplot(\n",
        "    data=df_resultados,\n",
        "    x=\"Dataset\",\n",
        "    y=\"RMSE\",\n",
        "    hue=\"Árboles\",\n",
        "    palette={100: \"steelblue\", 500: \"lightgray\", 800: \"dimgray\"}  # azul, gris claro y gris oscuro\n",
        ")\n",
        "plt.title(\"Comparación RMSE entre 100, 500 y 800 árboles - Random Forest\")\n",
        "plt.ylabel(\"RMSE\")\n",
        "plt.xlabel(\"Dataset\")\n",
        "plt.legend(title=\"N° de árboles\")\n",
        "plt.show()"
      ],
      "metadata": {
        "colab": {
          "base_uri": "https://localhost:8080/",
          "height": 488
        },
        "id": "ZAhzcOp0l5gg",
        "outputId": "47bb52a4-9cf2-4ca5-bd38-a1902d679d33"
      },
      "execution_count": 39,
      "outputs": [
        {
          "output_type": "display_data",
          "data": {
            "text/plain": [
              "<IPython.core.display.HTML object>"
            ],
            "text/html": [
              "\n",
              "            <style>\n",
              "                .geemap-dark {\n",
              "                    --jp-widgets-color: white;\n",
              "                    --jp-widgets-label-color: white;\n",
              "                    --jp-ui-font-color1: white;\n",
              "                    --jp-layout-color2: #454545;\n",
              "                    background-color: #383838;\n",
              "                }\n",
              "\n",
              "                .geemap-dark .jupyter-button {\n",
              "                    --jp-layout-color3: #383838;\n",
              "                }\n",
              "\n",
              "                .geemap-colab {\n",
              "                    background-color: var(--colab-primary-surface-color, white);\n",
              "                }\n",
              "\n",
              "                .geemap-colab .jupyter-button {\n",
              "                    --jp-layout-color3: var(--colab-primary-surface-color, white);\n",
              "                }\n",
              "            </style>\n",
              "            "
            ]
          },
          "metadata": {}
        },
        {
          "output_type": "display_data",
          "data": {
            "text/plain": [
              "<Figure size 800x500 with 1 Axes>"
            ],
            "image/png": "[encoded data removed]"
          },
          "metadata": {}
        }
      ]
    },
    {
      "cell_type": "markdown",
      "source": [
        "### Conclusión de los resultados"
      ],
      "metadata": {
        "id": "hBl-d5bRzqYV"
      }
    },
    {
      "cell_type": "markdown",
      "source": [
        "La comparación de resultados con 100, 500 y 800 árboles muestra que el desempeño es muy estable en todos los conjuntos de datos, con valores de RMSE cercanos a 7 y MSE alrededor de 49. El incremento en la cantidad de árboles de 100 a 500 genera una leve mejora en la precisión del modelo, evidenciada en la reducción marginal del RMSE y MSE, aunque el cambio no es sustancial. El error mínimo aumenta ligeramente cuando se utilizan más árboles, lo que indica que las predicciones se vuelven menos exactas en algunos casos puntuales, pero a cambio se obtiene una mayor consistencia general. El error máximo se mantiene cercano a 30 en todos los escenarios, lo que revela la presencia de observaciones difíciles de predecir que no logran resolverse simplemente aumentando la cantidad de árboles. Al incorporar 800 árboles, se observa que el modelo no empeora, pero tampoco mejora de forma significativa respecto a los 500, lo cual confirma que a partir de cierto punto el Random Forest alcanza un nivel de saturación y más árboles solo incrementan el costo computacional sin generar beneficios reales. En conjunto, los resultados evidencian que Random Forest es un modelo robusto y poco sensible al escalado o estandarización de los datos, y que si bien más árboles ayudan a estabilizar las predicciones, la ganancia en rendimiento es marginal, lo cual sugiere que para mejorar significativamente el desempeño se necesitaría ajustar otros hiperparámetros o explorar modelos alternativos."
      ],
      "metadata": {
        "id": "vxbYO7iymtWP"
      }
    },
    {
      "cell_type": "markdown",
      "source": [
        "De acuerdo con los resultados obtenidos, el Random Forest Regressor entrenado con el dataset B estandarizado y con 800 árboles presentó el menor error de predicción (RMSE = 6.958 y MSE = 48.411), constituyéndose en la mejor configuración ensayada. Si bien el desempeño de este modelo es apenas superior al observado con 500 árboles, la consistencia alcanzada confirma que a partir de este punto ha llegado a un nivel de saturación en el que añadir más árboles no genera mejoras sustanciales en la precisión, aunque sí incrementa el costo computacional. Por este motivo, se selecciona este modelo como el más adecuado, ya que combina un rendimiento óptimo con una estabilidad robusta frente a las diferentes configuraciones evaluadas."
      ],
      "metadata": {
        "id": "OPAxwkmEuDI2"
      }
    },
    {
      "cell_type": "code",
      "source": [
        "# Guardar resultados de 800 árboles\n",
        "resultados_800 = {}\n",
        "\n",
        "for nombre, data in datasets_dict.items():\n",
        "    # Extraer datos\n",
        "    X_train, y_train = data['x_train'], data['y_train']\n",
        "    X_test, y_test   = data['x_test'], data['y_test']\n",
        "\n",
        "    # Entrenar modelo Random Forest Regressor con 800 árboles\n",
        "    modelo = RandomForestRegressor(\n",
        "        n_estimators=800,\n",
        "        random_state=42,\n",
        "        n_jobs=-1\n",
        "    )\n",
        "    modelo.fit(X_train, y_train.values.ravel())\n",
        "\n",
        "    # Predicciones\n",
        "    y_pred = modelo.predict(X_test)\n",
        "\n",
        "    # Métricas\n",
        "    mse = mean_squared_error(y_test, y_pred)\n",
        "    rmse = np.sqrt(mse)\n",
        "    errores_abs = np.abs(y_test.values.ravel() - y_pred)\n",
        "    min_error = errores_abs.min()\n",
        "    max_error = errores_abs.max()\n",
        "\n",
        "    # Guardar resultados\n",
        "    resultados_800[nombre] = {\n",
        "        \"MSE\": round(mse, 3),\n",
        "        \"RMSE\": round(rmse, 3),\n",
        "        \"MIN error\": round(min_error, 3),\n",
        "        \"MAX error\": round(max_error, 3)\n",
        "    }\n",
        "\n",
        "# Mostrar resultados\n",
        "print(\" Resultados Random Forest con 800 árboles\\n\")\n",
        "for nombre, res in resultados_800.items():\n",
        "    print(f\"{nombre}: {res}\")\n"
      ],
      "metadata": {
        "colab": {
          "base_uri": "https://localhost:8080/",
          "height": 128
        },
        "id": "mLCKct_cvJev",
        "outputId": "5bd3aec0-9585-4178-b2b7-0d90900ae1c1"
      },
      "execution_count": 49,
      "outputs": [
        {
          "output_type": "display_data",
          "data": {
            "text/plain": [
              "<IPython.core.display.HTML object>"
            ],
            "text/html": [
              "\n",
              "            <style>\n",
              "                .geemap-dark {\n",
              "                    --jp-widgets-color: white;\n",
              "                    --jp-widgets-label-color: white;\n",
              "                    --jp-ui-font-color1: white;\n",
              "                    --jp-layout-color2: #454545;\n",
              "                    background-color: #383838;\n",
              "                }\n",
              "\n",
              "                .geemap-dark .jupyter-button {\n",
              "                    --jp-layout-color3: #383838;\n",
              "                }\n",
              "\n",
              "                .geemap-colab {\n",
              "                    background-color: var(--colab-primary-surface-color, white);\n",
              "                }\n",
              "\n",
              "                .geemap-colab .jupyter-button {\n",
              "                    --jp-layout-color3: var(--colab-primary-surface-color, white);\n",
              "                }\n",
              "            </style>\n",
              "            "
            ]
          },
          "metadata": {}
        },
        {
          "output_type": "stream",
          "name": "stdout",
          "text": [
            " Resultados Random Forest con 800 árboles\n",
            "\n",
            "A_scaled: {'MSE': 48.671, 'RMSE': np.float64(6.976), 'MIN error': np.float64(0.153), 'MAX error': np.float64(30.489)}\n",
            "A_std: {'MSE': 48.863, 'RMSE': np.float64(6.99), 'MIN error': np.float64(0.121), 'MAX error': np.float64(30.351)}\n",
            "B_scaled: {'MSE': 48.605, 'RMSE': np.float64(6.972), 'MIN error': np.float64(0.006), 'MAX error': np.float64(30.135)}\n",
            "B_std: {'MSE': 48.411, 'RMSE': np.float64(6.958), 'MIN error': np.float64(0.016), 'MAX error': np.float64(30.068)}\n"
          ]
        }
      ]
    }
  ]
}