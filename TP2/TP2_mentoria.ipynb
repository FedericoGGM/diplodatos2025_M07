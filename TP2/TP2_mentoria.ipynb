{
 "cells": [
  {
   "cell_type": "markdown",
   "id": "2aca7e17",
   "metadata": {},
   "source": [
    "# Grupo 2\n",
    "\n",
    "Benitez, Macarena<br>\n",
    "Castro Luna, Eduardo<br>\n",
    "Gutierrez, Federico<br>\n",
    "Wolowski, Mauro"
   ]
  },
  {
   "cell_type": "markdown",
   "id": "477c45da",
   "metadata": {},
   "source": [
    "# 1. Importación de Librerías y Configuraciones Iniciales"
   ]
  },
  {
   "cell_type": "code",
   "execution_count": 20,
   "id": "f9cef2e6",
   "metadata": {},
   "outputs": [],
   "source": [
    "# Importación de librerías\n",
    "import pandas as pd\n",
    "import numpy as np\n",
    "\n",
    "import matplotlib.pyplot as plt\n",
    "import seaborn as sns\n",
    "from missingno import matrix, heatmap\n",
    "from sklearn.model_selection import train_test_split\n",
    "\n",
    "from tp2_utils import *\n",
    "\n",
    "# Configuracion de pandas\n",
    "\n",
    "pd.set_option('display.max_rows', None)\n",
    "pd.set_option('display.max_columns', None)"
   ]
  },
  {
   "cell_type": "markdown",
   "id": "dedb2ebb",
   "metadata": {},
   "source": [
    "tp2_utils contiene funciones útiles para este trabajo, las que, para limpieza de este notebook, se prefirió mantener en una librería a importar.\n",
    "\n",
    "En los submódulos de la librería podemos encontrar:\n",
    "- df_categorical_transformations_utils y df_numerical_transformations: transformacions básicas al dataset identificadas en el trabajo anterior (con algunas modificaciones, como se detalla abajo) para la curación de los datos. Estas son usadas en las secciones 3 y 4.\n",
    "- variables_classification: Contiene claseVariablesClassification, que permite acceder a la clasificación de las variables realizada en el TP1.\n",
    "- df_exploration_utils: Funciones útiles para explorar los datos, usadas para explicar algunas decisiones."
   ]
  },
  {
   "cell_type": "markdown",
   "id": "3a9db294",
   "metadata": {},
   "source": [
    "# 2. Importación de base de datos original"
   ]
  },
  {
   "cell_type": "code",
   "execution_count": 11,
   "id": "73bb9ad8",
   "metadata": {},
   "outputs": [],
   "source": [
    "# Cargar el dataset\n",
    "\n",
    "url = \"https://raw.githubusercontent.com/MaricelSantos/Mentoria--Diplodatos-2025/main/Conexiones_Transparentes.csv\"\n",
    "df = pd.read_csv(url)"
   ]
  },
  {
   "cell_type": "markdown",
   "id": "02322d63",
   "metadata": {},
   "source": [
    "# 3. Curación de los Datos Categóricos"
   ]
  },
  {
   "cell_type": "markdown",
   "id": "95e0301e",
   "metadata": {},
   "source": [
    "Aplicamos las mismas transformaciones realizadas en el Trabajo Práctico 1, con algunas modificaciones:\n",
    "\n",
    "- Cambiar datos en formato serial de excel a formato dd/mm/yyyy\n",
    "- Convertir todos los datos de tiempo a objetos pandas DataFrame, imputando los valores no válidos (cadenas del estilo 'no se midió) como NaT\n",
    "- Pasamos todos los valores de campaña a minúscula. Eliminamos los que no correspondan a 'verano', 'otoño', 'invierno', 'primavera'\n",
    "- En aquellas columnas que sólo admiten valores Asencia/Presencia -o similares-, imputamos como None aquellos valores que no correspondan a alguna de las categorías. Además, uniformamos los valores a 1 y 0 (a diferencia de lo hecho en el TP1, en el que seteamos a todos los valores válidos como'Ausente'/'Presente')\n",
    "- Se imputan como None aquellos valores no válidos en calidad_de_agua\n",
    "- Se imputan como NaN los valores no válidos en año -no hecho en TP 1-.\n",
    "- Imputamos los datos faltantes relacionados con el Censo de 2022 y el Programa de Estudios del Conurbano usando la variable 'codigo':\n",
    "    - Todas estas variables, salvo longitud y latitud, son imputadas usando sólo los dos primeros caracteres del código\n",
    "    - Latitud y longitud no son imputadas, puesto que se observa que hay una correspondencia biunívoca entre latitud, longitud y código. No podemos asignar un único valor de latitud y longitud a cada municipio."
   ]
  },
  {
   "cell_type": "code",
   "execution_count": 12,
   "id": "7772bec3",
   "metadata": {
    "scrolled": true
   },
   "outputs": [
    {
     "name": "stdout",
     "output_type": "stream",
     "text": [
      "Columna 'fecha' corregida\n",
      "Columna 'camapaña' corregida\n",
      "Columnas olores, color, espumas, mat_susp corregidas\n",
      "Columna 'calidad_de_agua' corregida\n",
      "Columna 'año' corregida\n"
     ]
    },
    {
     "name": "stderr",
     "output_type": "stream",
     "text": [
      "/home/developer/diplodatos/mentoria/diplodatos2025_M07/TP2/tp2_utils/df_categorical_transformations_utils.py:84: UserWarning: This pattern is interpreted as a regular expression, and has match groups. To actually get the groups, use str.extract.\n",
      "  df1['campaña'].astype(str).str.contains(patron, na=False)\n"
     ]
    },
    {
     "name": "stdout",
     "output_type": "stream",
     "text": [
      "Imputación de variables de Censo y Programa de Conurbano -excepto longitud y latitud- usando código realizada\n"
     ]
    }
   ],
   "source": [
    "df1 = apply_date_correction_to_df(df) # Corrección columna 'fecha'\n",
    "df2 = correct_campana(df1) # Corrección columna 'campaña'\n",
    "df3 = correct_binary_categorical(df2) # Corrección de variables categóricas binarias\n",
    "df4 = correct_calidad_del_agua(df3) # Corrección de variable calidad_de_agua\n",
    "df5 = correct_year(df4) # Corrección variable año\n",
    "df6 = imputation_per_muni(df5)\n",
    "\n",
    "# Guardamos el nuevo df para no tener que volver a correr todo esto cada vez\n",
    "df6.to_csv('./aguas_limpieza_solo_categoricas.csv', index=False)"
   ]
  },
  {
   "cell_type": "markdown",
   "id": "a2c6611c",
   "metadata": {},
   "source": [
    "# 4. Curación de los Datos Numéricos"
   ]
  },
  {
   "cell_type": "code",
   "execution_count": 13,
   "id": "10946f2c",
   "metadata": {
    "scrolled": true
   },
   "outputs": [
    {
     "name": "stdout",
     "output_type": "stream",
     "text": [
      "tem_agua \n",
      "\n",
      "No presenta valores con '<' 0 '>'\n",
      "Mínimo: 6.0, Máximo: 29.4, Media: 19.44606490872211, Mediana: 19.6, Desviación Estándar: 5.008036867283525\n",
      "\n",
      "---------------------------------------------------\n",
      "tem_aire \n",
      "\n",
      "No presenta valores con '<' 0 '>'\n",
      "Mínimo: 4.0, Máximo: 33.0, Media: 18.325258799171845, Mediana: 18.0, Desviación Estándar: 6.3286629533640335\n",
      "\n",
      "---------------------------------------------------\n",
      "od \n",
      "\n",
      "No presenta valores con '<' 0 '>'\n",
      "Mínimo: 0.2, Máximo: 17.61, Media: 6.246427061310782, Mediana: 6.19, Desviación Estándar: 2.8622443123662444\n",
      "\n",
      "---------------------------------------------------\n",
      "ph \n",
      "\n",
      "No presenta valores con '<' 0 '>'\n",
      "Mínimo: 5.0, Máximo: 10.5, Media: 7.509683972911964, Mediana: 7.41, Desviación Estándar: 0.7443493860400554\n",
      "\n",
      "---------------------------------------------------\n",
      "colif_fecales_ufc_100ml \n",
      "\n",
      "colif_fecales_ufc_100ml_comparison  colif_fecales_ufc_100ml_value\n",
      ">                                   100000.0                         1\n",
      "Name: count, dtype: int64\n",
      "Mínimo: 1.0, Máximo: 4200000.0, Media: 36285.49875776397, Mediana: 4000.0, Desviación Estándar: 218011.4222811783\n",
      "\n",
      "---------------------------------------------------\n",
      "escher_coli_ufc_100ml \n",
      "\n",
      "No presenta valores con '<' 0 '>'\n",
      "Mínimo: 1.0, Máximo: 180000.0, Media: 5940.043902439024, Mediana: 845.0, Desviación Estándar: 18216.064451728165\n",
      "\n",
      "---------------------------------------------------\n",
      "enteroc_ufc_100ml \n",
      "\n",
      "No presenta valores con '<' 0 '>'\n",
      "Mínimo: 1.0, Máximo: 30000.0, Media: 1205.0804674796748, Mediana: 300.0, Desviación Estándar: 3234.266519274405\n",
      "\n",
      "---------------------------------------------------\n",
      "nitrato_mg_l \n",
      "\n",
      "nitrato_mg_l_comparison  nitrato_mg_l_value\n",
      "<                        2.0                   36\n",
      "                         44.0                   8\n",
      "                         1.0                    4\n",
      "Name: count, dtype: int64\n",
      "Mínimo: 1.1, Máximo: 39.4, Media: 6.258297872340425, Mediana: 5.1, Desviación Estándar: 4.367549126169625\n",
      "\n",
      "---------------------------------------------------\n",
      "nh4_mg_l \n",
      "\n",
      "nh4_mg_l_comparison  nh4_mg_l_value\n",
      "<                    0.05              27\n",
      "                     0.01              15\n",
      "                     0.78               2\n",
      "                     0.10               1\n",
      "Name: count, dtype: int64\n",
      "Mínimo: 0.049, Máximo: 39.0, Media: 2.0576268343815514, Mediana: 0.88, Desviación Estándar: 3.708475860106506\n",
      "\n",
      "---------------------------------------------------\n",
      "p_total_l_mg_l \n",
      "\n",
      "p_total_l_mg_l_comparison  p_total_l_mg_l_value\n",
      "<                          0.2                     11\n",
      "                           0.1                      4\n",
      "Name: count, dtype: int64\n",
      "Mínimo: 0.08, Máximo: 30.12, Media: 0.6425995807127882, Mediana: 0.4, Desviación Estándar: 1.9591110017195679\n",
      "\n",
      "---------------------------------------------------\n",
      "fosf_ortofos_mg_l \n",
      "\n",
      "fosf_ortofos_mg_l_comparison  fosf_ortofos_mg_l_value\n",
      "<                             0.2                        37\n",
      "                              0.1                        11\n",
      "Name: count, dtype: int64\n",
      "Mínimo: 0.1, Máximo: 2.6, Media: 0.40465, Mediana: 0.33, Desviación Estándar: 0.29549224468108576\n",
      "\n",
      "---------------------------------------------------\n",
      "dbo_mg_l \n",
      "\n",
      "dbo_mg_l_comparison  dbo_mg_l_value\n",
      "<                    2.0               79\n",
      "                     5.0               18\n",
      "Name: count, dtype: int64\n",
      "Mínimo: 1.9, Máximo: 42.0, Media: 5.783880597014925, Mediana: 4.7, Desviación Estándar: 4.145444420900863\n",
      "\n",
      "---------------------------------------------------\n",
      "dqo_mg_l \n",
      "\n",
      "dqo_mg_l_comparison  dqo_mg_l_value\n",
      "<                    30.0              202\n",
      "                     50.0               23\n",
      "                     2.0                 4\n",
      "Name: count, dtype: int64\n",
      "Mínimo: 2.2, Máximo: 230.0, Media: 48.15663716814159, Mediana: 40.0, Desviación Estándar: 30.61848788226905\n",
      "\n",
      "---------------------------------------------------\n",
      "turbiedad_ntu \n",
      "\n",
      "turbiedad_ntu_comparison  turbiedad_ntu_value\n",
      "<                         30.0                   24\n",
      "Name: count, dtype: int64\n",
      "Mínimo: 2.2, Máximo: 432.0, Media: 39.889046653144014, Mediana: 28.0, Desviación Estándar: 39.126440357703025\n",
      "\n",
      "---------------------------------------------------\n",
      "hidr_deriv_petr_ug_l \n",
      "\n",
      "hidr_deriv_petr_ug_l_comparison  hidr_deriv_petr_ug_l_value\n",
      "<                                0.1                           364\n",
      "                                 100.0                         120\n",
      "Name: count, dtype: int64\n",
      "Mínimo: 6.9, Máximo: 340.0, Media: 101.73, Mediana: 77.5, Desviación Estándar: 73.14483105691629\n",
      "\n",
      "---------------------------------------------------\n",
      "cr_total_mg_l \n",
      "\n",
      "cr_total_mg_l_comparison  cr_total_mg_l_value\n",
      "<                         0.005                  311\n",
      "                          5.000                   31\n",
      "                          100.000                 29\n",
      "                          0.010                    4\n",
      "                          10.000                   4\n",
      "Name: count, dtype: int64\n",
      "Mínimo: 0.0, Máximo: 44.0, Media: 2.4778027397260276, Mediana: 0.007, Desviación Estándar: 6.017416882913312\n",
      "\n",
      "---------------------------------------------------\n",
      "cd_total_mg_l \n",
      "\n",
      "cd_total_mg_l_comparison  cd_total_mg_l_value\n",
      "<                         0.001                  372\n",
      "                          1.000                   41\n",
      "                          0.005                   24\n",
      "                          0.002                    4\n",
      "                          0.010                    1\n",
      "Name: count, dtype: int64\n",
      "Mínimo: 0.0017, Máximo: 0.021, Media: 0.01060909090909091, Mediana: 0.007, Desviación Estándar: 0.007265047081121297\n",
      "\n",
      "---------------------------------------------------\n",
      "clorofila_a_ug_l \n",
      "\n",
      "clorofila_a_ug_l_comparison  clorofila_a_ug_l_value\n",
      "<                            10.000                    149\n",
      "                             0.010                      46\n",
      "                             0.001                      30\n",
      "                             0.100                      13\n",
      "Name: count, dtype: int64\n",
      "Mínimo: 0.0, Máximo: 6410.0, Media: 156.63456599277978, Mediana: 4.57, Desviación Estándar: 621.8093049290568\n",
      "\n",
      "---------------------------------------------------\n",
      "microcistina_ug_l \n",
      "\n",
      "microcistina_ug_l_comparison  microcistina_ug_l_value\n",
      "<                             0.15                       314\n",
      "                              0.20                       111\n",
      "                              10.00                       30\n",
      ">                             5.00                        14\n",
      "Name: count, dtype: int64\n",
      "Mínimo: 0.15, Máximo: 2.98, Media: 0.6226829268292682, Mediana: 0.3, Desviación Estándar: 0.6839116331451158\n",
      "\n",
      "---------------------------------------------------\n",
      "ica \n",
      "\n",
      "No presenta valores con '<' 0 '>'\n",
      "Mínimo: 23.0, Máximo: 93.0, Media: 43.84282907662082, Mediana: 40.0, Desviación Estándar: 11.227727412380117\n",
      "\n",
      "---------------------------------------------------\n",
      "latitud \n",
      "\n",
      "No presenta valores con '<' 0 '>'\n",
      "Mínimo: -34.753, Máximo: -34.63, Media: -34.691500000000005, Mediana: -34.691500000000005, Desviación Estándar: 0.06262853449772857\n",
      "\n",
      "---------------------------------------------------\n",
      "longitud \n",
      "\n",
      "No presenta valores con '<' 0 '>'\n",
      "Mínimo: -584.419, Máximo: -584.419, Media: -584.419, Mediana: -584.419, Desviación Estándar: 0.0\n",
      "\n",
      "---------------------------------------------------\n",
      "Poblacion_partido \n",
      "\n",
      "No presenta valores con '<' 0 '>'\n",
      "Mínimo: 63.997, Máximo: 633.391, Media: 311.47699438202244, Mediana: 358.712, Desviación Estándar: 166.61025004843668\n",
      "\n",
      "---------------------------------------------------\n",
      "Personas_con_cloacas \n",
      "\n",
      "No presenta valores con '<' 0 '>'\n",
      "Mínimo: 37.375, Máximo: 469.008, Media: 195.8744400749064, Mediana: 144.834, Desviación Estándar: 124.50254225212127\n",
      "\n",
      "---------------------------------------------------\n"
     ]
    }
   ],
   "source": [
    "# Veamos con más detalle los valores en cada columna numérica con símbolos '<' y '>' y los comparemos con otros\n",
    "    # valores de referencia de la misma columna\n",
    "classifier = VariablesClassification()\n",
    "numericas = classifier.numericas\n",
    "for col in numericas:\n",
    "    numerical_col_data(df6, col)"
   ]
  },
  {
   "cell_type": "code",
   "execution_count": 14,
   "id": "7bb660e7",
   "metadata": {
    "scrolled": true
   },
   "outputs": [
    {
     "name": "stdout",
     "output_type": "stream",
     "text": [
      "Valores de fosf_ortofos_mg_l mayores a 0.1 y menores a 0.2 : 66 (10.77%)\n",
      "Valores de fosf_ortofos_mg_l menores a 0.2 : 71 (11.58%)\n",
      "Valores de dbo_mg_l mayores a 2 y menores a 5 : 163 (26.59%)\n",
      "Valores de dbo_mg_l menores a 2 : 10 (1.63%)\n",
      "Valores de dqo_mg_l menores a 50 : 137 (22.35%)\n",
      "Valores de dqo_mg_l menores a 30 : 53 (8.65%)\n",
      "Valores de dqo_mg_l menores a 2 : 0 (0.00%)\n",
      "Valores de cr_total_mg_l mayores a 0.01 : 25 (4.08%)\n",
      "Valores de cr_total_mg_l menores a 0.01 : 47 (7.67%)\n",
      "Valores de clorofila_a_ug_l menores a 10 : 156 (25.45%)\n",
      "Valores de clorofila_a_ug_l menores a 0.1 : 75 (12.23%)\n",
      "Valores de clorofila_a_ug_l menores a 0.01 : 45 (7.34%)\n",
      "Valores de microcistina_ug_l menores a 0.4 : 21 (3.43%)\n",
      "Valores de microcistina_ug_l menores a 0.2 : 11 (1.79%)\n"
     ]
    }
   ],
   "source": [
    "# Veamos cuántos valores encontramos en ciertos intérvalos de valores de algunas columnas\n",
    "\n",
    "col_interval(df6, 'fosf_ortofos_mg_l', minlim=0.1, maxlim=0.2)\n",
    "col_interval(df6, 'fosf_ortofos_mg_l', maxlim=0.2)\n",
    "col_interval(df6, 'dbo_mg_l', minlim=2, maxlim=5)\n",
    "col_interval(df6, 'dbo_mg_l', maxlim=2)\n",
    "col_interval(df6, 'dqo_mg_l', maxlim=50)\n",
    "col_interval(df6, 'dqo_mg_l', maxlim=30)\n",
    "col_interval(df6, 'dqo_mg_l', maxlim=2)\n",
    "col_interval(df6, 'cr_total_mg_l', minlim=0.01)\n",
    "col_interval(df6, 'cr_total_mg_l', maxlim=0.01)\n",
    "col_interval(df6, 'clorofila_a_ug_l', maxlim=10)\n",
    "col_interval(df6, 'clorofila_a_ug_l', maxlim=0.1)\n",
    "col_interval(df6, 'clorofila_a_ug_l', maxlim=0.01)\n",
    "col_interval(df6, 'microcistina_ug_l', maxlim=0.4)\n",
    "col_interval(df6, 'microcistina_ug_l', maxlim=0.2)"
   ]
  },
  {
   "cell_type": "markdown",
   "id": "77622c35",
   "metadata": {},
   "source": [
    "## Alternativa 1\n",
    "En todas las variables numéricas, imputamos como NaN todos los valores no numéricos. Además, se imputan como NaN:\n",
    "\n",
    "- En **colif_fecales_ufc_100ml**: El valor outlier, muy alejado de los demás valores (mayor a $2\\times 10^6$ $UFC/100ml$) y el valor con símbolo '>', dado que es uno sólo y no altera significativamente la información que aporta la columna. \n",
    "\n",
    "- En **escher_coli_ufc_100ml**: Los tres outliers (valores por encima de $125.000$ $UFC/100ml$).\n",
    "\n",
    "- En **enteroc_ufc_100ml**: Los dos valores outliers (mayores a $25.000$ $UFC/100ml$)\n",
    "\n",
    "- En **nitrato_mg_l**: El valor outlier que se aleja significativamente del resto de los valores (mayor a $25$ $mg/l$) y los valores con símbolo '<', dado que son pocos (`~`7% de los datos, sumando un `~`23% junto con los valores nulos y demás no numéricos).\n",
    "\n",
    "- En **nh4_mg_l**: El valor outlier, muy alejado de los demás valores (mayor a $25$ $mg/L$) y los valores con símbolo '<', que constituyen el `~`7% de los datos, sumando un `~`23% junto con los valores nulos y demás no numéricos.\n",
    "\n",
    "- En **p_total_l_mg_l**: El valor outlier, muy alejado del resto de los valores (mayor a $5$ $mg/l$) y los 15 valores con símbolo '<', que representan `~`2% de los datos, sumando un `~`22% de los datos junto con los demás valores no numéricos y nulos.\n",
    "\n",
    "- En **fosf_ortofos_mg_l**: Los dos valores outliers más alejados del conjunto de datos (mayores a $2$ $mg/l$) y los valores con símbolo '<', que constituyen aproximadamente el `~`8% de los datos totales, sumando junto con los demás no numéricos y los valores nulos un `~`35% de los datos. Si bien este porcentaje de datos faltantes (luego de estas imputaciones) es más considerable comparado con el de las columnas anteriores, sigue siendo lo suficientemente bajo como para considerar imputarlos si no alteran demasiado la distribución de los datos. Por otro lado, los números que se observan junto con el signo '<' son 0.1 y 0.2, y son en total 48. En la columna tenemos 71 valores numéricos (`~`12% del total) menores a $0.2$ $mg/l$, y 66 (`~`11%) entre $0.1$ $mg/l$ y $0.2$ $mg/l$, por lo que quitarle el signo '<' a los valores que lo tienen o imputarlos como cero alteran significativamente las distribución de la variable (como se vió en el TP1). Dado que tenemos muchos valores cercanos a $0.1$ $mg/l$ y $0.2$ $mg/l$, no encontramos prudente otra forma de imputación.\n",
    "\n",
    "- En **dbo_mg_l**: El valor outlier (mayor a $25$ $mg/l$), muy alejado del resto de los valores, y los valores con símbolo '<'. Si bien estos últimos representan aproximadamente el 16% de los datos, llegando a sumar un `~`45% junto con los demás valores no numéricos y nulos (una proporción más considerable que en casos anteriores y que puede significar la necesidad de descartar la variable), tenemos 163 valores (`~`27%) entre $2$ $mg/l$ y $5$ $mg/l$ y 10 valores menores a $2$ $mg/l$ (1.6%), lo que dificulta imputar los valores '<2' y '<5' presentes en la columna sin alterar significativamente la distribución de los datos.\n",
    "\n",
    "- En **dqo_mg_l**: Los valores outliers (mayores a $150$ $mg/l$) y los valores con símbolo '<', que constituyen un `~`37% del total de los datos, sumando un `~`63% junto con los demás valores no numéricos y nulos. Si bien estos últimos constituyen un porcentaje muy alto, y el imputar como NaN todos estos valores obliga a eliminar esta columna, tenemos dos motivos para realizar esta imputación en detrimento de cualquier otra: respecto a los valores '<30' y '<50', tenemos una apreciable cantidad de valores menores a $30$ $mg/l$ y $50$ $mg/l$; y respecto a '<2', el valor mínimo de la columna es $2.2$ $mg/l$, muy cercano a 2, lo que nos impide imputar de forma fiable este último valor.\n",
    "\n",
    "- En **turbiedad_ntu**: El valor outlier (mayor a $300$ $ntu$), y los valores con símbolo '<', que son apenas `~`4% del total de datos, sumando un `~`20% junto con los demás valores no numéricos y nulos.\n",
    "\n",
    "- En **hidr_deriv_petr_ug_l**: Los valores '<100.0', puesto que los pocos datos que tenemos tienen cierta densidad de datos entre $0$ y $100$ $\\mu g/L$.\n",
    "\n",
    "- En **cr_total_mg_l**: El valor outlier (mayor a $40$ $mg/l$) y los valores con símbolo '<'. Los valores de forma '<5.000', '<100.000' y '<10.000' se consideran sin sentido, por lo que se justifica la decisión de descartarlos (aunque podría especularse con que en realidad estén expresados en $\\mu g/l$, lo que explicaría bien los valores, aunque no dejaría de ser una especulación). Los valores '<0.010' se descartan pues se tienen varios valores por debajo y por encima de $0.01$ $mg/l$. Por otro lado, los valores '<0.005', que constituyen el `~`51% de los datos, es muy difícil imputarlos por un valor puesto que los valores numéricos mínimos registrados son muy cercanos a $0.005$ $mg/l$ (aunque superiores), y no puede saberse si es más conveniente imputar esta gran cantidad de valores por valores cercanos, algún valor intermedio entre $0$ $mg/l$ y $0.005$ $mg/l$ o valores varios órdenes de magnitud menores a $0.005$ $mg/l$. Dado que el valor mínimo es $0.0052$ $mg/l$, podría especularse con imputar estos últimos valores con 0.005, entendiendo que así estos valore serían muy similares a los mínimos medidos, sin embargo la poca cantidad de valores numéricos (`~`19% del total de los datos) vuelve imprudente realizar este tipo de medidas.\n",
    "\n",
    "- En **cd_total_mg_l**: Los valores con símbolo '<'. Todos los valores que tenemos nos llevan a descartar los valores de la forma '<1.000', puesto que este es dos órdenes de magnitud mayor que cualquier valor medido. Respecto al resto de los valores con símbolo '<', los números que acompañan al signo son del mismo orden que los valores numéricos medidos, lo que hace imposible imputar estos de forma adecuada. Además, los valores numéricos sólo representan el `~`2% de los totales, y siendo estos apenas 11 valores, es imposible hacer ninguna asunción de la distribución de esta variable.\n",
    "\n",
    "- En **clorofila_a_ug_l**: Los valores outliers (mayores a $4000$ $\\mu g/l$) y los valores con símbolo '<'. Cuando observamos los valores numéricos más pequeños de la columna (menores a $10$ $\\mu g/l$, $0.1$ $\\mu g/l$ y $0.01$ $\\mu g/l$) observamos valores por encima y por debajo de todos estos, lo que hace muy difícil imputarlos. Esta observación es particularmente importante para el valor '<10.000', que es el más frecuente de los valores con símbolo '<' (149 valores, representando `~`24% del total), puesto que tenemos 156 valores numéricos (el `~`25% de los datos totales) menores a 10.\n",
    "\n",
    "- En **microcistina_ug_l**: Se eliminan los tres outliers (mayores a $2$ $\\mu g/L$) y los valores con símbolo '<'. Estos últimos representan un `~`75% de los valores totales. Esta última imputación obliga a eliminar esta columna, pero, de forma similar al caso de la columna anterior, no tenemos forma de imputar estos valores de forma confiable. El valor '>10.00' y '>5.00' son mayores que todos los valores numéricos medidos. por otro lado, la mayoría de los (pocos) valores medidos son del orden de $0.15$ $\\mu g/L$ y $0.20$ $\\mu g/L$.\n",
    " \n",
    "Además:\n",
    "\n",
    "- En **hidr_deriv_petr_ug_l**: No imputamos como NaN los valores outliers, dado que tenemos muy pocos datos numéricos como para saber si realmente son datos atípicos. Los valores '<0.1' se imputan como $0$ $\\mu g/l$, dado que son menores al mínimo de $6.9$ $\\mu g/L$ que se observa entre los valores numéricos.\n",
    "\n",
    "Por último, se nota que los valores en 'Poblacion_partido' y 'Personas_con_cloacas' tienen puntos indicando la separación entre cifras de a 3, como es usual en español. Esto hace que, al pasar estos valores a numéricos, sean interpretados como números punto flotantes, salvo por la población de CABA que es interpretada como no numérica al tener dos puntos. Se eliminan los puntos de estos strings antes de pasarlos a valores numéricos."
   ]
  },
  {
   "cell_type": "code",
   "execution_count": 15,
   "id": "187f35b6",
   "metadata": {
    "scrolled": true
   },
   "outputs": [
    {
     "name": "stdout",
     "output_type": "stream",
     "text": [
      "Imputación de valores outliers de columna colif_fecales_ufc_100ml -mayores a 2000000.0- completada)"
     ]
    },
    {
     "name": "stdout",
     "output_type": "stream",
     "text": [
      "\n",
      "Imputación de valores outliers de columna escher_coli_ufc_100ml -mayores a 125000- completada)\n",
      "Imputación de valores outliers de columna enteroc_ufc_100ml -mayores a 25000- completada)\n",
      "Imputación de valores outliers de columna nitrato_mg_l -mayores a 25- completada)\n",
      "Imputación de valores outliers de columna nh4_mg_l -mayores a 25- completada)\n",
      "Imputación de valores outliers de columna p_total_l_mg_l -mayores a 5- completada)\n",
      "Imputación de valores outliers de columna fosf_ortofos_mg_l -mayores a 2- completada)\n",
      "Imputación de valores outliers de columna dbo_mg_l -mayores a 25- completada)\n",
      "Imputación de valores outliers de columna dqo_mg_l -mayores a 150- completada)\n",
      "Imputación de valores outliers de columna turbiedad_ntu -mayores a 300- completada)\n",
      "Imputación de valores outliers de columna cr_total_mg_l -mayores a 40- completada)\n",
      "Imputación de valores outliers de columna clorofila_a_ug_l -mayores a 4000- completada)\n",
      "Imputación de valores outliers de columna microcistina_ug_l -mayores a 2- completada)\n"
     ]
    }
   ],
   "source": [
    "# Imputamos como NaN los valores outliers\n",
    "df7 = df6.copy()\n",
    "\n",
    "cols_con_outliers = ['colif_fecales_ufc_100ml', 'escher_coli_ufc_100ml', 'enteroc_ufc_100ml', 'nitrato_mg_l',\n",
    "                    'nh4_mg_l', 'p_total_l_mg_l', 'fosf_ortofos_mg_l', 'dbo_mg_l', 'dqo_mg_l', 'turbiedad_ntu',\n",
    "                    'cr_total_mg_l', 'clorofila_a_ug_l', 'microcistina_ug_l']\n",
    "outliers_lim = [2E6, 125000, 25000, 25, 25, 5, 2, 25, 150, 300, 40, 4000, 2]\n",
    "\n",
    "for col, lim in zip(cols_con_outliers, outliers_lim):\n",
    "    df7 = impute_outliers(df7, col, lim)"
   ]
  },
  {
   "cell_type": "code",
   "execution_count": 16,
   "id": "bd1d70a5",
   "metadata": {
    "scrolled": true
   },
   "outputs": [
    {
     "name": "stdout",
     "output_type": "stream",
     "text": [
      "Imputación de valores '<0.10', ' <0.10', ' 0.10' y ' 0.20' en columna hidr_deriv_petr_ug_l completada\n"
     ]
    }
   ],
   "source": [
    "# Imputamos como 0 los valores '<0.10' en hidr_deriv_petr_ug_l\n",
    "df8 = df7.copy()\n",
    "df8 = imput_hidr_01(df8)"
   ]
  },
  {
   "cell_type": "code",
   "execution_count": 17,
   "id": "13d0ca75",
   "metadata": {},
   "outputs": [
    {
     "name": "stdout",
     "output_type": "stream",
     "text": [
      "Eliminación de puntos en los valores de 'Poblacion_partido' y 'Personas_con_cloacas' completada\n"
     ]
    }
   ],
   "source": [
    "# Eliminamos los puntos de los valores numéricos en Poblacion_partido y Personas_con_cloacas\n",
    "df9 = df8.copy()\n",
    "df9 = remove_dots_in_populations(df9)"
   ]
  },
  {
   "cell_type": "code",
   "execution_count": 18,
   "id": "5653a54b",
   "metadata": {},
   "outputs": [
    {
     "name": "stdout",
     "output_type": "stream",
     "text": [
      "Imputación de valores no numéricos de variables numéricas completada.\n"
     ]
    }
   ],
   "source": [
    "# imputamos como NaN los valores no numéricos de las variables numéricas, y transformamos las columnas\n",
    "    # correspondientes a numéricas\n",
    "df10 = df9.copy()\n",
    "df10 = set_to_numerical(df10)\n",
    "\n",
    "# Guardamos el nuevo df para no tener que volver a correr todo esto cada vez\n",
    "# df6.to_csv('./aguas_limpieza_final.csv', index=False)\n",
    "df10.to_csv('./aguas_limpieza_final.csv', index=False)"
   ]
  },
  {
   "cell_type": "markdown",
   "id": "d2ca8099",
   "metadata": {},
   "source": [
    "---\n",
    "# División del dataset\n",
    "\n",
    "- Se usa clorofila_a_ug_l como variable objetivo para regresión.\n",
    "- Se realiza la división en train (70%), validación (20%), y test (10%)."
   ]
  },
  {
   "cell_type": "code",
   "execution_count": null,
   "id": "b85f0064",
   "metadata": {},
   "outputs": [
    {
     "name": "stdout",
     "output_type": "stream",
     "text": [
      "Train: 429 muestras (69.98%)\n",
      "Validación: 122 muestras (19.90%)\n",
      "Test: 62 muestras (10.11%)\n"
     ]
    }
   ],
   "source": [
    "# 1. Leer el dataset limpio desde CSV\n",
    "df_limpio = pd.read_csv(\"aguas_limpieza_final.csv\")\n",
    "\n",
    "# 2. Definir variable objetivo\n",
    "target_col = \"clorofila_a_ug_l\"\n",
    "X = df_limpio.drop(columns=[target_col])\n",
    "y = df_limpio[target_col]\n",
    "\n",
    "# 3. Dividir en train (70%) y temp (30%)\n",
    "X_train, X_temp, y_train, y_temp = train_test_split(\n",
    "    X, y, test_size=0.3, random_state=42\n",
    ")\n",
    "\n",
    "# 4. Dividir temp en validación (20%) y test (10%)\n",
    "X_val, X_test, y_val, y_test = train_test_split(\n",
    "    X_temp, y_temp, test_size=0.3333, random_state=42\n",
    ")\n",
    "\n",
    "# 5. Verificar proporciones\n",
    "total = len(df_limpio)\n",
    "print(f\"Train: {len(X_train)} muestras ({len(X_train)/total:.2%})\")\n",
    "print(f\"Validación: {len(X_val)} muestras ({len(X_val)/total:.2%})\")\n",
    "print(f\"Test: {len(X_test)} muestras ({len(X_test)/total:.2%})\")"
   ]
  },
  {
   "cell_type": "markdown",
   "id": "ba232dcb",
   "metadata": {},
   "source": [
    "---\n",
    "# Ramas paralelas de experimentación\n",
    "Se proponen las siguientes ramas iniciales de trabajo:\n",
    "- Rama A: Conservar todas las variables\n",
    "- Rama B: Eliminar variables altamente correlacionadas"
   ]
  },
  {
   "cell_type": "markdown",
   "id": "5a8fd7da",
   "metadata": {},
   "source": [
    "### Rama A: Conservar todas las variables"
   ]
  },
  {
   "cell_type": "code",
   "execution_count": null,
   "id": "98589cb6",
   "metadata": {},
   "outputs": [],
   "source": [
    "# 6. Guardar dataset sin modificaciones de la división anterior\n",
    "X_train.to_csv(\"X_train_ramaB.csv\", index=False)\n",
    "X_val.to_csv(\"X_val_ramaB.csv\", index=False)\n",
    "X_test.to_csv(\"X_test_ramaB.csv\", index=False)\n",
    "\n",
    "print(\"Rama A creada y guardada con éxito.\")"
   ]
  },
  {
   "cell_type": "markdown",
   "id": "fb6a5c92",
   "metadata": {},
   "source": [
    "### Rama B: Eliminar variables altamente correlacionadas\n",
    "Eliminar variables numéricas que estén altamente correlacionadas (|r| > 0.85), dejando solo una de cada grupo correlacionado."
   ]
  },
  {
   "cell_type": "code",
   "execution_count": null,
   "id": "15c500f3",
   "metadata": {},
   "outputs": [],
   "source": [
    "# 1. Calcular matriz de correlación absoluta en X_train\n",
    "matriz_corr = X_train.select_dtypes(include=[np.number]).corr().abs()\n",
    "\n",
    "# 2. Crear máscara para triangular superior (evita duplicados)\n",
    "mascara = np.triu(np.ones(matriz_corr.shape), k=1).astype(bool)\n",
    "corr_sup = matriz_corr.where(mascara)\n",
    "\n",
    "# 3. Identificar columnas con correlación > 0.85\n",
    "columnas_correlacionadas = [col for col in corr_sup.columns if any(corr_sup[col] > 0.85)]\n",
    "\n",
    "print(\"Columnas eliminadas por alta correlación:\", columnas_correlacionadas)\n",
    "\n",
    "# 4. Eliminar las columnas de los tres conjuntos\n",
    "X_train_sin_corr = X_train.drop(columns=columnas_correlacionadas)\n",
    "X_val_sin_corr = X_val.drop(columns=columnas_correlacionadas)\n",
    "X_test_sin_corr = X_test.drop(columns=columnas_correlacionadas)\n",
    "\n",
    "# 5. (opcional) Guardar en CSV para trabajar sobre esta rama\n",
    "# X_train_sin_corr.to_csv(\"X_train_ramaB.csv\", index=False)\n",
    "# X_val_sin_corr.to_csv(\"X_val_ramaB.csv\", index=False)\n",
    "# X_test_sin_corr.to_csv(\"X_test_ramaB.csv\", index=False)\n",
    "\n",
    "print(\"Rama B creada y guardada con éxito.\")"
   ]
  },
  {
   "cell_type": "markdown",
   "id": "bbb070a0",
   "metadata": {},
   "source": [
    "---\n",
    "# Imputación"
   ]
  },
  {
   "cell_type": "markdown",
   "id": "37b9a2d9",
   "metadata": {},
   "source": [
    "---\n",
    "# Modelo"
   ]
  }
 ],
 "metadata": {
  "kernelspec": {
   "display_name": "diplodatos_M07_G02",
   "language": "python",
   "name": "python3"
  },
  "language_info": {
   "codemirror_mode": {
    "name": "ipython",
    "version": 3
   },
   "file_extension": ".py",
   "mimetype": "text/x-python",
   "name": "python",
   "nbconvert_exporter": "python",
   "pygments_lexer": "ipython3",
   "version": "3.11.13"
  }
 },
 "nbformat": 4,
 "nbformat_minor": 5
}
